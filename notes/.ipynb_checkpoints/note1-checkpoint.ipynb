{
 "cells": [
  {
   "cell_type": "markdown",
   "id": "73db38e6-7412-452b-96c6-727872c2054d",
   "metadata": {},
   "source": [
    "## Working with file\n",
    "1. Writing into a file\n",
    "2. Reading into a file\n",
    "3. Appeanding into a file\n",
    "4. Reading lines into a file\n",
    "5. Interating over each line in a file\n",
    "6. Interating over each line in a file without the function strip()\n",
    "8. Checking if a file exists\n",
    "9. Writing lists into a file\n",
    "10. Using with blocks for multiple files\n",
    "11. Reading binary (image, video, etc.) from a file\n",
    "12. Writing binary into a file"
   ]
  },
  {
   "cell_type": "code",
   "execution_count": 41,
   "id": "9077d3f9-f0c5-48ee-a01e-8fc0b1426d6e",
   "metadata": {},
   "outputs": [
    {
     "name": "stdout",
     "output_type": "stream",
     "text": [
      "14\n"
     ]
    }
   ],
   "source": [
    "#writing into a file\n",
    "with open('example.txt', 'w') as file:\n",
    "    content = file.write('Hello, Python!')\n",
    "    print(content)"
   ]
  },
  {
   "cell_type": "code",
   "execution_count": 42,
   "id": "9b07ef44-cb71-4d8d-a259-b400f37f7f36",
   "metadata": {},
   "outputs": [
    {
     "name": "stdout",
     "output_type": "stream",
     "text": [
      "Hello, Python!\n"
     ]
    }
   ],
   "source": [
    "#reading from a file\n",
    "with open('example.txt', 'r') as file:\n",
    "    content = file.read()\n",
    "    print(content)"
   ]
  },
  {
   "cell_type": "code",
   "execution_count": 43,
   "id": "cf0532a7-7d12-486f-86ae-009fc6d82703",
   "metadata": {},
   "outputs": [
    {
     "name": "stdout",
     "output_type": "stream",
     "text": [
      "34\n"
     ]
    }
   ],
   "source": [
    "#appending into a file\n",
    "with open('example.txt', 'a') as file:\n",
    "    content = file.write('\\nAppend this line to the greeting.')\n",
    "    print(content)"
   ]
  },
  {
   "cell_type": "code",
   "execution_count": 44,
   "id": "10d83b68-9bf2-44f0-aa73-21135694a804",
   "metadata": {},
   "outputs": [
    {
     "name": "stdout",
     "output_type": "stream",
     "text": [
      "['Hello, Python!\\n', 'Append this line to the greeting.']\n"
     ]
    }
   ],
   "source": [
    "#reading lines into a list\n",
    "with open('example.txt', 'r') as file:\n",
    "    lines = file.readlines()\n",
    "    print(lines)"
   ]
  },
  {
   "cell_type": "code",
   "execution_count": 45,
   "id": "27d12cb5-c490-4c63-98d8-3bd17bffbb9e",
   "metadata": {},
   "outputs": [
    {
     "name": "stdout",
     "output_type": "stream",
     "text": [
      "Hello, Python!\n",
      "Append this line to the greeting.\n"
     ]
    }
   ],
   "source": [
    "#interating over each line in a file\n",
    "with open('example.txt', 'r') as file:\n",
    "    for line in file:\n",
    "        print(line.strip())"
   ]
  },
  {
   "cell_type": "code",
   "execution_count": 46,
   "id": "5cf17d9d-4f93-4591-974f-317dfde37d49",
   "metadata": {},
   "outputs": [
    {
     "name": "stdout",
     "output_type": "stream",
     "text": [
      "Hello, Python!\n",
      "\n",
      "Append this line to the greeting.\n"
     ]
    }
   ],
   "source": [
    "#interating over each line in a file without strip()\n",
    "with open('example.txt', 'r') as file:\n",
    "    for line in file:\n",
    "        print(line)"
   ]
  },
  {
   "cell_type": "code",
   "execution_count": 47,
   "id": "513a6c1d-a6dc-4fd6-973c-aa023b24049a",
   "metadata": {},
   "outputs": [
    {
     "name": "stdout",
     "output_type": "stream",
     "text": [
      "File exists\n"
     ]
    }
   ],
   "source": [
    "#checking if a file exists\n",
    "import os\n",
    "if os.path.exists('example.txt'):\n",
    "    print('File exists')\n",
    "else:\n",
    "    print('File doest not exists.')"
   ]
  },
  {
   "cell_type": "code",
   "execution_count": 48,
   "id": "d1ba0869-32fa-443b-85e7-5dfdf4e5d5a9",
   "metadata": {},
   "outputs": [],
   "source": [
    "#Writing list to a file\n",
    "lines = ['First line', 'Second line', 'Third line']\n",
    "with open('example.txt', 'w') as file:\n",
    "    for line in lines:\n",
    "        file.write(f'{line}\\n')"
   ]
  },
  {
   "cell_type": "code",
   "execution_count": 49,
   "id": "d4171c4d-468f-4a20-99f9-f1d38e1223d0",
   "metadata": {},
   "outputs": [
    {
     "name": "stdout",
     "output_type": "stream",
     "text": [
      "source file written into\n",
      "destination file written into\n",
      "First line\n",
      "Second line\n",
      "Third line\n",
      "\n"
     ]
    }
   ],
   "source": [
    "#using with blocks for multiple files\n",
    "with open('source.txt', 'w') as source, open('destination.txt', 'w') as destination, open('example.txt', 'r') as file:\n",
    "    source.write('Hello, source!')\n",
    "    print('source file written into')\n",
    "    destination.write('Hello, destination')\n",
    "    print('destination file written into')\n",
    "    text = file.read()\n",
    "    print(text)\n",
    "    \n",
    "    "
   ]
  },
  {
   "cell_type": "code",
   "execution_count": 50,
   "id": "6a84f340-1838-46c2-9921-53bf8ebfb087",
   "metadata": {},
   "outputs": [
    {
     "name": "stdout",
     "output_type": "stream",
     "text": [
      "File deleted\n"
     ]
    }
   ],
   "source": [
    "#Deleting a file\n",
    "if os.path.exists('destination.txt'):\n",
    "    os.remove('destination.txt')\n",
    "    print('File deleted')\n",
    "else:\n",
    "    print('File does not exist')"
   ]
  },
  {
   "cell_type": "code",
   "execution_count": 51,
   "id": "0963c1db-1149-4086-bc48-38c2b0f06f72",
   "metadata": {},
   "outputs": [],
   "source": [
    "#Reading and writing binary files: useful for images, videos and so on\n",
    "with open('image.jpg', 'rb') as file:\n",
    "    img_content = file.read()"
   ]
  },
  {
   "cell_type": "code",
   "execution_count": 52,
   "id": "4b79e73f-f8a2-4b9f-a583-3f6222b644d6",
   "metadata": {},
   "outputs": [],
   "source": [
    "#Writing into to a binary file\n",
    "with open('copy.jpg', 'wb') as file:\n",
    "    file.write(img_content)"
   ]
  },
  {
   "cell_type": "markdown",
   "id": "0e776325-2943-4e4f-a9ea-0249ef44946e",
   "metadata": {},
   "source": [
    "## Working with Simple HTTP APIs\n",
    "1. Basic get request"
   ]
  },
  {
   "cell_type": "code",
   "execution_count": 53,
   "id": "342d8279-e90f-4de8-8d3b-5d7de8290b0d",
   "metadata": {},
   "outputs": [],
   "source": [
    "url = \"https://dummyjson.com/products\""
   ]
  },
  {
   "cell_type": "code",
   "execution_count": 54,
   "id": "65a7aa8a-d294-4eb7-9453-38ef2713fe2b",
   "metadata": {},
   "outputs": [
    {
     "name": "stdout",
     "output_type": "stream",
     "text": [
      "https://dummyjson.com/products\n"
     ]
    }
   ],
   "source": [
    "#confirming url\n",
    "print(url)"
   ]
  },
  {
   "cell_type": "code",
   "execution_count": 55,
   "id": "ef97dd99-56df-4b32-98ff-1743a1cb2cfa",
   "metadata": {},
   "outputs": [
    {
     "name": "stdout",
     "output_type": "stream",
     "text": [
      "https://dummyjson.com/products/data\n"
     ]
    }
   ],
   "source": [
    "print(f'{url}/data')"
   ]
  },
  {
   "cell_type": "code",
   "execution_count": 56,
   "id": "500bf240-8395-41b9-9945-24ec04f535b3",
   "metadata": {},
   "outputs": [
    {
     "name": "stdout",
     "output_type": "stream",
     "text": [
      "Prorducts list: 17973\n"
     ]
    }
   ],
   "source": [
    "import requests\n",
    "response = requests.get(url)\n",
    "data = response.json()\n",
    "\n",
    "with open('products.txt', 'w') as file:\n",
    "    content= file.write(str(data))\n",
    "    print(f'Prorducts list: {content}')"
   ]
  },
  {
   "cell_type": "code",
   "execution_count": 57,
   "id": "e0a5b29b-9250-45ee-93b9-ddb1d772d19b",
   "metadata": {},
   "outputs": [
    {
     "name": "stdout",
     "output_type": "stream",
     "text": [
      "{'products': [{'id': 1, 'title': 'iPhone 9', 'description': 'An apple mobile which is nothing like apple', 'price': 549, 'discountPercentage': 12.96, 'rating': 4.69, 'stock': 94, 'brand': 'Apple', 'category': 'smartphones', 'thumbnail': 'https://cdn.dummyjson.com/product-images/1/thumbnail.jpg', 'images': ['https://cdn.dummyjson.com/product-images/1/1.jpg', 'https://cdn.dummyjson.com/product-images/1/2.jpg', 'https://cdn.dummyjson.com/product-images/1/3.jpg', 'https://cdn.dummyjson.com/product-images/1/4.jpg', 'https://cdn.dummyjson.com/product-images/1/thumbnail.jpg']}, {'id': 2, 'title': 'iPhone X', 'description': 'SIM-Free, Model A19211 6.5-inch Super Retina HD display with OLED technology A12 Bionic chip with ...', 'price': 899, 'discountPercentage': 17.94, 'rating': 4.44, 'stock': 34, 'brand': 'Apple', 'category': 'smartphones', 'thumbnail': 'https://cdn.dummyjson.com/product-images/2/thumbnail.jpg', 'images': ['https://cdn.dummyjson.com/product-images/2/1.jpg', 'https://cdn.dummyjson.com/product-images/2/2.jpg', 'https://cdn.dummyjson.com/product-images/2/3.jpg', 'https://cdn.dummyjson.com/product-images/2/thumbnail.jpg']}, {'id': 3, 'title': 'Samsung Universe 9', 'description': \"Samsung's new variant which goes beyond Galaxy to the Universe\", 'price': 1249, 'discountPercentage': 15.46, 'rating': 4.09, 'stock': 36, 'brand': 'Samsung', 'category': 'smartphones', 'thumbnail': 'https://cdn.dummyjson.com/product-images/3/thumbnail.jpg', 'images': ['https://cdn.dummyjson.com/product-images/3/1.jpg']}, {'id': 4, 'title': 'OPPOF19', 'description': 'OPPO F19 is officially announced on April 2021.', 'price': 280, 'discountPercentage': 17.91, 'rating': 4.3, 'stock': 123, 'brand': 'OPPO', 'category': 'smartphones', 'thumbnail': 'https://cdn.dummyjson.com/product-images/4/thumbnail.jpg', 'images': ['https://cdn.dummyjson.com/product-images/4/1.jpg', 'https://cdn.dummyjson.com/product-images/4/2.jpg', 'https://cdn.dummyjson.com/product-images/4/3.jpg', 'https://cdn.dummyjson.com/product-images/4/4.jpg', 'https://cdn.dummyjson.com/product-images/4/thumbnail.jpg']}, {'id': 5, 'title': 'Huawei P30', 'description': 'Huawei’s re-badged P30 Pro New Edition was officially unveiled yesterday in Germany and now the device has made its way to the UK.', 'price': 499, 'discountPercentage': 10.58, 'rating': 4.09, 'stock': 32, 'brand': 'Huawei', 'category': 'smartphones', 'thumbnail': 'https://cdn.dummyjson.com/product-images/5/thumbnail.jpg', 'images': ['https://cdn.dummyjson.com/product-images/5/1.jpg', 'https://cdn.dummyjson.com/product-images/5/2.jpg', 'https://cdn.dummyjson.com/product-images/5/3.jpg']}, {'id': 6, 'title': 'MacBook Pro', 'description': 'MacBook Pro 2021 with mini-LED display may launch between September, November', 'price': 1749, 'discountPercentage': 11.02, 'rating': 4.57, 'stock': 83, 'brand': 'Apple', 'category': 'laptops', 'thumbnail': 'https://cdn.dummyjson.com/product-images/6/thumbnail.png', 'images': ['https://cdn.dummyjson.com/product-images/6/1.png', 'https://cdn.dummyjson.com/product-images/6/2.jpg', 'https://cdn.dummyjson.com/product-images/6/3.png', 'https://cdn.dummyjson.com/product-images/6/4.jpg']}, {'id': 7, 'title': 'Samsung Galaxy Book', 'description': 'Samsung Galaxy Book S (2020) Laptop With Intel Lakefield Chip, 8GB of RAM Launched', 'price': 1499, 'discountPercentage': 4.15, 'rating': 4.25, 'stock': 50, 'brand': 'Samsung', 'category': 'laptops', 'thumbnail': 'https://cdn.dummyjson.com/product-images/7/thumbnail.jpg', 'images': ['https://cdn.dummyjson.com/product-images/7/1.jpg', 'https://cdn.dummyjson.com/product-images/7/2.jpg', 'https://cdn.dummyjson.com/product-images/7/3.jpg', 'https://cdn.dummyjson.com/product-images/7/thumbnail.jpg']}, {'id': 8, 'title': 'Microsoft Surface Laptop 4', 'description': 'Style and speed. Stand out on HD video calls backed by Studio Mics. Capture ideas on the vibrant touchscreen.', 'price': 1499, 'discountPercentage': 10.23, 'rating': 4.43, 'stock': 68, 'brand': 'Microsoft Surface', 'category': 'laptops', 'thumbnail': 'https://cdn.dummyjson.com/product-images/8/thumbnail.jpg', 'images': ['https://cdn.dummyjson.com/product-images/8/1.jpg', 'https://cdn.dummyjson.com/product-images/8/2.jpg', 'https://cdn.dummyjson.com/product-images/8/3.jpg', 'https://cdn.dummyjson.com/product-images/8/4.jpg', 'https://cdn.dummyjson.com/product-images/8/thumbnail.jpg']}, {'id': 9, 'title': 'Infinix INBOOK', 'description': 'Infinix Inbook X1 Ci3 10th 8GB 256GB 14 Win10 Grey – 1 Year Warranty', 'price': 1099, 'discountPercentage': 11.83, 'rating': 4.54, 'stock': 96, 'brand': 'Infinix', 'category': 'laptops', 'thumbnail': 'https://cdn.dummyjson.com/product-images/9/thumbnail.jpg', 'images': ['https://cdn.dummyjson.com/product-images/9/1.jpg', 'https://cdn.dummyjson.com/product-images/9/2.png', 'https://cdn.dummyjson.com/product-images/9/3.png', 'https://cdn.dummyjson.com/product-images/9/4.jpg', 'https://cdn.dummyjson.com/product-images/9/thumbnail.jpg']}, {'id': 10, 'title': 'HP Pavilion 15-DK1056WM', 'description': 'HP Pavilion 15-DK1056WM Gaming Laptop 10th Gen Core i5, 8GB, 256GB SSD, GTX 1650 4GB, Windows 10', 'price': 1099, 'discountPercentage': 6.18, 'rating': 4.43, 'stock': 89, 'brand': 'HP Pavilion', 'category': 'laptops', 'thumbnail': 'https://cdn.dummyjson.com/product-images/10/thumbnail.jpeg', 'images': ['https://cdn.dummyjson.com/product-images/10/1.jpg', 'https://cdn.dummyjson.com/product-images/10/2.jpg', 'https://cdn.dummyjson.com/product-images/10/3.jpg', 'https://cdn.dummyjson.com/product-images/10/thumbnail.jpeg']}, {'id': 11, 'title': 'perfume Oil', 'description': 'Mega Discount, Impression of Acqua Di Gio by GiorgioArmani concentrated attar perfume Oil', 'price': 13, 'discountPercentage': 8.4, 'rating': 4.26, 'stock': 65, 'brand': 'Impression of Acqua Di Gio', 'category': 'fragrances', 'thumbnail': 'https://cdn.dummyjson.com/product-images/11/thumbnail.jpg', 'images': ['https://cdn.dummyjson.com/product-images/11/1.jpg', 'https://cdn.dummyjson.com/product-images/11/2.jpg', 'https://cdn.dummyjson.com/product-images/11/3.jpg', 'https://cdn.dummyjson.com/product-images/11/thumbnail.jpg']}, {'id': 12, 'title': 'Brown Perfume', 'description': 'Royal_Mirage Sport Brown Perfume for Men & Women - 120ml', 'price': 40, 'discountPercentage': 15.66, 'rating': 4, 'stock': 52, 'brand': 'Royal_Mirage', 'category': 'fragrances', 'thumbnail': 'https://cdn.dummyjson.com/product-images/12/thumbnail.jpg', 'images': ['https://cdn.dummyjson.com/product-images/12/1.jpg', 'https://cdn.dummyjson.com/product-images/12/2.jpg', 'https://cdn.dummyjson.com/product-images/12/3.png', 'https://cdn.dummyjson.com/product-images/12/4.jpg', 'https://cdn.dummyjson.com/product-images/12/thumbnail.jpg']}, {'id': 13, 'title': 'Fog Scent Xpressio Perfume', 'description': 'Product details of Best Fog Scent Xpressio Perfume 100ml For Men cool long lasting perfumes for Men', 'price': 13, 'discountPercentage': 8.14, 'rating': 4.59, 'stock': 61, 'brand': 'Fog Scent Xpressio', 'category': 'fragrances', 'thumbnail': 'https://cdn.dummyjson.com/product-images/13/thumbnail.webp', 'images': ['https://cdn.dummyjson.com/product-images/13/1.jpg', 'https://cdn.dummyjson.com/product-images/13/2.png', 'https://cdn.dummyjson.com/product-images/13/3.jpg', 'https://cdn.dummyjson.com/product-images/13/4.jpg', 'https://cdn.dummyjson.com/product-images/13/thumbnail.webp']}, {'id': 14, 'title': 'Non-Alcoholic Concentrated Perfume Oil', 'description': 'Original Al Munakh® by Mahal Al Musk | Our Impression of Climate | 6ml Non-Alcoholic Concentrated Perfume Oil', 'price': 120, 'discountPercentage': 15.6, 'rating': 4.21, 'stock': 114, 'brand': 'Al Munakh', 'category': 'fragrances', 'thumbnail': 'https://cdn.dummyjson.com/product-images/14/thumbnail.jpg', 'images': ['https://cdn.dummyjson.com/product-images/14/1.jpg', 'https://cdn.dummyjson.com/product-images/14/2.jpg', 'https://cdn.dummyjson.com/product-images/14/3.jpg', 'https://cdn.dummyjson.com/product-images/14/thumbnail.jpg']}, {'id': 15, 'title': 'Eau De Perfume Spray', 'description': 'Genuine  Al-Rehab spray perfume from UAE/Saudi Arabia/Yemen High Quality', 'price': 30, 'discountPercentage': 10.99, 'rating': 4.7, 'stock': 105, 'brand': 'Lord - Al-Rehab', 'category': 'fragrances', 'thumbnail': 'https://cdn.dummyjson.com/product-images/15/thumbnail.jpg', 'images': ['https://cdn.dummyjson.com/product-images/15/1.jpg', 'https://cdn.dummyjson.com/product-images/15/2.jpg', 'https://cdn.dummyjson.com/product-images/15/3.jpg', 'https://cdn.dummyjson.com/product-images/15/4.jpg', 'https://cdn.dummyjson.com/product-images/15/thumbnail.jpg']}, {'id': 16, 'title': 'Hyaluronic Acid Serum', 'description': \"L'OrÃ©al Paris introduces Hyaluron Expert Replumping Serum formulated with 1.5% Hyaluronic Acid\", 'price': 19, 'discountPercentage': 13.31, 'rating': 4.83, 'stock': 110, 'brand': \"L'Oreal Paris\", 'category': 'skincare', 'thumbnail': 'https://cdn.dummyjson.com/product-images/16/thumbnail.jpg', 'images': ['https://cdn.dummyjson.com/product-images/16/1.png', 'https://cdn.dummyjson.com/product-images/16/2.webp', 'https://cdn.dummyjson.com/product-images/16/3.jpg', 'https://cdn.dummyjson.com/product-images/16/4.jpg', 'https://cdn.dummyjson.com/product-images/16/thumbnail.jpg']}, {'id': 17, 'title': 'Tree Oil 30ml', 'description': 'Tea tree oil contains a number of compounds, including terpinen-4-ol, that have been shown to kill certain bacteria,', 'price': 12, 'discountPercentage': 4.09, 'rating': 4.52, 'stock': 78, 'brand': 'Hemani Tea', 'category': 'skincare', 'thumbnail': 'https://cdn.dummyjson.com/product-images/17/thumbnail.jpg', 'images': ['https://cdn.dummyjson.com/product-images/17/1.jpg', 'https://cdn.dummyjson.com/product-images/17/2.jpg', 'https://cdn.dummyjson.com/product-images/17/3.jpg', 'https://cdn.dummyjson.com/product-images/17/thumbnail.jpg']}, {'id': 18, 'title': 'Oil Free Moisturizer 100ml', 'description': 'Dermive Oil Free Moisturizer with SPF 20 is specifically formulated with ceramides, hyaluronic acid & sunscreen.', 'price': 40, 'discountPercentage': 13.1, 'rating': 4.56, 'stock': 88, 'brand': 'Dermive', 'category': 'skincare', 'thumbnail': 'https://cdn.dummyjson.com/product-images/18/thumbnail.jpg', 'images': ['https://cdn.dummyjson.com/product-images/18/1.jpg', 'https://cdn.dummyjson.com/product-images/18/2.jpg', 'https://cdn.dummyjson.com/product-images/18/3.jpg', 'https://cdn.dummyjson.com/product-images/18/4.jpg', 'https://cdn.dummyjson.com/product-images/18/thumbnail.jpg']}, {'id': 19, 'title': 'Skin Beauty Serum.', 'description': 'Product name: rorec collagen hyaluronic acid white face serum riceNet weight: 15 m', 'price': 46, 'discountPercentage': 10.68, 'rating': 4.42, 'stock': 54, 'brand': 'ROREC White Rice', 'category': 'skincare', 'thumbnail': 'https://cdn.dummyjson.com/product-images/19/thumbnail.jpg', 'images': ['https://cdn.dummyjson.com/product-images/19/1.jpg', 'https://cdn.dummyjson.com/product-images/19/2.jpg', 'https://cdn.dummyjson.com/product-images/19/3.png', 'https://cdn.dummyjson.com/product-images/19/thumbnail.jpg']}, {'id': 20, 'title': 'Freckle Treatment Cream- 15gm', 'description': \"Fair & Clear is Pakistan's only pure Freckle cream which helpsfade Freckles, Darkspots and pigments. Mercury level is 0%, so there are no side effects.\", 'price': 70, 'discountPercentage': 16.99, 'rating': 4.06, 'stock': 140, 'brand': 'Fair & Clear', 'category': 'skincare', 'thumbnail': 'https://cdn.dummyjson.com/product-images/20/thumbnail.jpg', 'images': ['https://cdn.dummyjson.com/product-images/20/1.jpg', 'https://cdn.dummyjson.com/product-images/20/2.jpg', 'https://cdn.dummyjson.com/product-images/20/3.jpg', 'https://cdn.dummyjson.com/product-images/20/4.jpg', 'https://cdn.dummyjson.com/product-images/20/thumbnail.jpg']}, {'id': 21, 'title': '- Daal Masoor 500 grams', 'description': 'Fine quality Branded Product Keep in a cool and dry place', 'price': 20, 'discountPercentage': 4.81, 'rating': 4.44, 'stock': 133, 'brand': 'Saaf & Khaas', 'category': 'groceries', 'thumbnail': 'https://cdn.dummyjson.com/product-images/21/thumbnail.png', 'images': ['https://cdn.dummyjson.com/product-images/21/1.png', 'https://cdn.dummyjson.com/product-images/21/2.jpg', 'https://cdn.dummyjson.com/product-images/21/3.jpg']}, {'id': 22, 'title': 'Elbow Macaroni - 400 gm', 'description': 'Product details of Bake Parlor Big Elbow Macaroni - 400 gm', 'price': 14, 'discountPercentage': 15.58, 'rating': 4.57, 'stock': 146, 'brand': 'Bake Parlor Big', 'category': 'groceries', 'thumbnail': 'https://cdn.dummyjson.com/product-images/22/thumbnail.jpg', 'images': ['https://cdn.dummyjson.com/product-images/22/1.jpg', 'https://cdn.dummyjson.com/product-images/22/2.jpg', 'https://cdn.dummyjson.com/product-images/22/3.jpg']}, {'id': 23, 'title': 'Orange Essence Food Flavou', 'description': 'Specifications of Orange Essence Food Flavour For Cakes and Baking Food Item', 'price': 14, 'discountPercentage': 8.04, 'rating': 4.85, 'stock': 26, 'brand': 'Baking Food Items', 'category': 'groceries', 'thumbnail': 'https://cdn.dummyjson.com/product-images/23/thumbnail.jpg', 'images': ['https://cdn.dummyjson.com/product-images/23/1.jpg', 'https://cdn.dummyjson.com/product-images/23/2.jpg', 'https://cdn.dummyjson.com/product-images/23/3.jpg', 'https://cdn.dummyjson.com/product-images/23/4.jpg', 'https://cdn.dummyjson.com/product-images/23/thumbnail.jpg']}, {'id': 24, 'title': 'cereals muesli fruit nuts', 'description': 'original fauji cereal muesli 250gm box pack original fauji cereals muesli fruit nuts flakes breakfast cereal break fast faujicereals cerels cerel foji fouji', 'price': 46, 'discountPercentage': 16.8, 'rating': 4.94, 'stock': 113, 'brand': 'fauji', 'category': 'groceries', 'thumbnail': 'https://cdn.dummyjson.com/product-images/24/thumbnail.jpg', 'images': ['https://cdn.dummyjson.com/product-images/24/1.jpg', 'https://cdn.dummyjson.com/product-images/24/2.jpg', 'https://cdn.dummyjson.com/product-images/24/3.jpg', 'https://cdn.dummyjson.com/product-images/24/4.jpg', 'https://cdn.dummyjson.com/product-images/24/thumbnail.jpg']}, {'id': 25, 'title': 'Gulab Powder 50 Gram', 'description': 'Dry Rose Flower Powder Gulab Powder 50 Gram • Treats Wounds', 'price': 70, 'discountPercentage': 13.58, 'rating': 4.87, 'stock': 47, 'brand': 'Dry Rose', 'category': 'groceries', 'thumbnail': 'https://cdn.dummyjson.com/product-images/25/thumbnail.jpg', 'images': ['https://cdn.dummyjson.com/product-images/25/1.png', 'https://cdn.dummyjson.com/product-images/25/2.jpg', 'https://cdn.dummyjson.com/product-images/25/3.png', 'https://cdn.dummyjson.com/product-images/25/4.jpg', 'https://cdn.dummyjson.com/product-images/25/thumbnail.jpg']}, {'id': 26, 'title': 'Plant Hanger For Home', 'description': 'Boho Decor Plant Hanger For Home Wall Decoration Macrame Wall Hanging Shelf', 'price': 41, 'discountPercentage': 17.86, 'rating': 4.08, 'stock': 131, 'brand': 'Boho Decor', 'category': 'home-decoration', 'thumbnail': 'https://cdn.dummyjson.com/product-images/26/thumbnail.jpg', 'images': ['https://cdn.dummyjson.com/product-images/26/1.jpg', 'https://cdn.dummyjson.com/product-images/26/2.jpg', 'https://cdn.dummyjson.com/product-images/26/3.jpg', 'https://cdn.dummyjson.com/product-images/26/4.jpg', 'https://cdn.dummyjson.com/product-images/26/5.jpg', 'https://cdn.dummyjson.com/product-images/26/thumbnail.jpg']}, {'id': 27, 'title': 'Flying Wooden Bird', 'description': 'Package Include 6 Birds with Adhesive Tape Shape: 3D Shaped Wooden Birds Material: Wooden MDF, Laminated 3.5mm', 'price': 51, 'discountPercentage': 15.58, 'rating': 4.41, 'stock': 17, 'brand': 'Flying Wooden', 'category': 'home-decoration', 'thumbnail': 'https://cdn.dummyjson.com/product-images/27/thumbnail.webp', 'images': ['https://cdn.dummyjson.com/product-images/27/1.jpg', 'https://cdn.dummyjson.com/product-images/27/2.jpg', 'https://cdn.dummyjson.com/product-images/27/3.jpg', 'https://cdn.dummyjson.com/product-images/27/4.jpg', 'https://cdn.dummyjson.com/product-images/27/thumbnail.webp']}, {'id': 28, 'title': '3D Embellishment Art Lamp', 'description': '3D led lamp sticker Wall sticker 3d wall art light on/off button  cell operated (included)', 'price': 20, 'discountPercentage': 16.49, 'rating': 4.82, 'stock': 54, 'brand': 'LED Lights', 'category': 'home-decoration', 'thumbnail': 'https://cdn.dummyjson.com/product-images/28/thumbnail.jpg', 'images': ['https://cdn.dummyjson.com/product-images/28/1.jpg', 'https://cdn.dummyjson.com/product-images/28/2.jpg', 'https://cdn.dummyjson.com/product-images/28/3.png', 'https://cdn.dummyjson.com/product-images/28/4.jpg', 'https://cdn.dummyjson.com/product-images/28/thumbnail.jpg']}, {'id': 29, 'title': 'Handcraft Chinese style', 'description': 'Handcraft Chinese style art luxury palace hotel villa mansion home decor ceramic vase with brass fruit plate', 'price': 60, 'discountPercentage': 15.34, 'rating': 4.44, 'stock': 7, 'brand': 'luxury palace', 'category': 'home-decoration', 'thumbnail': 'https://cdn.dummyjson.com/product-images/29/thumbnail.webp', 'images': ['https://cdn.dummyjson.com/product-images/29/1.jpg', 'https://cdn.dummyjson.com/product-images/29/2.jpg', 'https://cdn.dummyjson.com/product-images/29/3.webp', 'https://cdn.dummyjson.com/product-images/29/4.webp', 'https://cdn.dummyjson.com/product-images/29/thumbnail.webp']}, {'id': 30, 'title': 'Key Holder', 'description': 'Attractive DesignMetallic materialFour key hooksReliable & DurablePremium Quality', 'price': 30, 'discountPercentage': 2.92, 'rating': 4.92, 'stock': 54, 'brand': 'Golden', 'category': 'home-decoration', 'thumbnail': 'https://cdn.dummyjson.com/product-images/30/thumbnail.jpg', 'images': ['https://cdn.dummyjson.com/product-images/30/1.jpg', 'https://cdn.dummyjson.com/product-images/30/2.jpg', 'https://cdn.dummyjson.com/product-images/30/3.jpg', 'https://cdn.dummyjson.com/product-images/30/thumbnail.jpg']}], 'total': 100, 'skip': 0, 'limit': 30}\n"
     ]
    }
   ],
   "source": [
    "#Request with parameters\n",
    "params ={'key1':'value1', 'key2':'value2'}\n",
    "response = requests.get(url, params=params)\n",
    "data = response.json()\n",
    "print(data)"
   ]
  },
  {
   "cell_type": "code",
   "execution_count": 58,
   "id": "7176a3b9-3870-4586-b6c2-4fe7dbe07f2e",
   "metadata": {},
   "outputs": [
    {
     "name": "stdout",
     "output_type": "stream",
     "text": [
      "{'products': [{'id': 1, 'title': 'iPhone 9', 'description': 'An apple mobile which is nothing like apple', 'price': 549, 'discountPercentage': 12.96, 'rating': 4.69, 'stock': 94, 'brand': 'Apple', 'category': 'smartphones', 'thumbnail': 'https://cdn.dummyjson.com/product-images/1/thumbnail.jpg', 'images': ['https://cdn.dummyjson.com/product-images/1/1.jpg', 'https://cdn.dummyjson.com/product-images/1/2.jpg', 'https://cdn.dummyjson.com/product-images/1/3.jpg', 'https://cdn.dummyjson.com/product-images/1/4.jpg', 'https://cdn.dummyjson.com/product-images/1/thumbnail.jpg']}, {'id': 2, 'title': 'iPhone X', 'description': 'SIM-Free, Model A19211 6.5-inch Super Retina HD display with OLED technology A12 Bionic chip with ...', 'price': 899, 'discountPercentage': 17.94, 'rating': 4.44, 'stock': 34, 'brand': 'Apple', 'category': 'smartphones', 'thumbnail': 'https://cdn.dummyjson.com/product-images/2/thumbnail.jpg', 'images': ['https://cdn.dummyjson.com/product-images/2/1.jpg', 'https://cdn.dummyjson.com/product-images/2/2.jpg', 'https://cdn.dummyjson.com/product-images/2/3.jpg', 'https://cdn.dummyjson.com/product-images/2/thumbnail.jpg']}, {'id': 3, 'title': 'Samsung Universe 9', 'description': \"Samsung's new variant which goes beyond Galaxy to the Universe\", 'price': 1249, 'discountPercentage': 15.46, 'rating': 4.09, 'stock': 36, 'brand': 'Samsung', 'category': 'smartphones', 'thumbnail': 'https://cdn.dummyjson.com/product-images/3/thumbnail.jpg', 'images': ['https://cdn.dummyjson.com/product-images/3/1.jpg']}, {'id': 4, 'title': 'OPPOF19', 'description': 'OPPO F19 is officially announced on April 2021.', 'price': 280, 'discountPercentage': 17.91, 'rating': 4.3, 'stock': 123, 'brand': 'OPPO', 'category': 'smartphones', 'thumbnail': 'https://cdn.dummyjson.com/product-images/4/thumbnail.jpg', 'images': ['https://cdn.dummyjson.com/product-images/4/1.jpg', 'https://cdn.dummyjson.com/product-images/4/2.jpg', 'https://cdn.dummyjson.com/product-images/4/3.jpg', 'https://cdn.dummyjson.com/product-images/4/4.jpg', 'https://cdn.dummyjson.com/product-images/4/thumbnail.jpg']}, {'id': 5, 'title': 'Huawei P30', 'description': 'Huawei’s re-badged P30 Pro New Edition was officially unveiled yesterday in Germany and now the device has made its way to the UK.', 'price': 499, 'discountPercentage': 10.58, 'rating': 4.09, 'stock': 32, 'brand': 'Huawei', 'category': 'smartphones', 'thumbnail': 'https://cdn.dummyjson.com/product-images/5/thumbnail.jpg', 'images': ['https://cdn.dummyjson.com/product-images/5/1.jpg', 'https://cdn.dummyjson.com/product-images/5/2.jpg', 'https://cdn.dummyjson.com/product-images/5/3.jpg']}, {'id': 6, 'title': 'MacBook Pro', 'description': 'MacBook Pro 2021 with mini-LED display may launch between September, November', 'price': 1749, 'discountPercentage': 11.02, 'rating': 4.57, 'stock': 83, 'brand': 'Apple', 'category': 'laptops', 'thumbnail': 'https://cdn.dummyjson.com/product-images/6/thumbnail.png', 'images': ['https://cdn.dummyjson.com/product-images/6/1.png', 'https://cdn.dummyjson.com/product-images/6/2.jpg', 'https://cdn.dummyjson.com/product-images/6/3.png', 'https://cdn.dummyjson.com/product-images/6/4.jpg']}, {'id': 7, 'title': 'Samsung Galaxy Book', 'description': 'Samsung Galaxy Book S (2020) Laptop With Intel Lakefield Chip, 8GB of RAM Launched', 'price': 1499, 'discountPercentage': 4.15, 'rating': 4.25, 'stock': 50, 'brand': 'Samsung', 'category': 'laptops', 'thumbnail': 'https://cdn.dummyjson.com/product-images/7/thumbnail.jpg', 'images': ['https://cdn.dummyjson.com/product-images/7/1.jpg', 'https://cdn.dummyjson.com/product-images/7/2.jpg', 'https://cdn.dummyjson.com/product-images/7/3.jpg', 'https://cdn.dummyjson.com/product-images/7/thumbnail.jpg']}, {'id': 8, 'title': 'Microsoft Surface Laptop 4', 'description': 'Style and speed. Stand out on HD video calls backed by Studio Mics. Capture ideas on the vibrant touchscreen.', 'price': 1499, 'discountPercentage': 10.23, 'rating': 4.43, 'stock': 68, 'brand': 'Microsoft Surface', 'category': 'laptops', 'thumbnail': 'https://cdn.dummyjson.com/product-images/8/thumbnail.jpg', 'images': ['https://cdn.dummyjson.com/product-images/8/1.jpg', 'https://cdn.dummyjson.com/product-images/8/2.jpg', 'https://cdn.dummyjson.com/product-images/8/3.jpg', 'https://cdn.dummyjson.com/product-images/8/4.jpg', 'https://cdn.dummyjson.com/product-images/8/thumbnail.jpg']}, {'id': 9, 'title': 'Infinix INBOOK', 'description': 'Infinix Inbook X1 Ci3 10th 8GB 256GB 14 Win10 Grey – 1 Year Warranty', 'price': 1099, 'discountPercentage': 11.83, 'rating': 4.54, 'stock': 96, 'brand': 'Infinix', 'category': 'laptops', 'thumbnail': 'https://cdn.dummyjson.com/product-images/9/thumbnail.jpg', 'images': ['https://cdn.dummyjson.com/product-images/9/1.jpg', 'https://cdn.dummyjson.com/product-images/9/2.png', 'https://cdn.dummyjson.com/product-images/9/3.png', 'https://cdn.dummyjson.com/product-images/9/4.jpg', 'https://cdn.dummyjson.com/product-images/9/thumbnail.jpg']}, {'id': 10, 'title': 'HP Pavilion 15-DK1056WM', 'description': 'HP Pavilion 15-DK1056WM Gaming Laptop 10th Gen Core i5, 8GB, 256GB SSD, GTX 1650 4GB, Windows 10', 'price': 1099, 'discountPercentage': 6.18, 'rating': 4.43, 'stock': 89, 'brand': 'HP Pavilion', 'category': 'laptops', 'thumbnail': 'https://cdn.dummyjson.com/product-images/10/thumbnail.jpeg', 'images': ['https://cdn.dummyjson.com/product-images/10/1.jpg', 'https://cdn.dummyjson.com/product-images/10/2.jpg', 'https://cdn.dummyjson.com/product-images/10/3.jpg', 'https://cdn.dummyjson.com/product-images/10/thumbnail.jpeg']}, {'id': 11, 'title': 'perfume Oil', 'description': 'Mega Discount, Impression of Acqua Di Gio by GiorgioArmani concentrated attar perfume Oil', 'price': 13, 'discountPercentage': 8.4, 'rating': 4.26, 'stock': 65, 'brand': 'Impression of Acqua Di Gio', 'category': 'fragrances', 'thumbnail': 'https://cdn.dummyjson.com/product-images/11/thumbnail.jpg', 'images': ['https://cdn.dummyjson.com/product-images/11/1.jpg', 'https://cdn.dummyjson.com/product-images/11/2.jpg', 'https://cdn.dummyjson.com/product-images/11/3.jpg', 'https://cdn.dummyjson.com/product-images/11/thumbnail.jpg']}, {'id': 12, 'title': 'Brown Perfume', 'description': 'Royal_Mirage Sport Brown Perfume for Men & Women - 120ml', 'price': 40, 'discountPercentage': 15.66, 'rating': 4, 'stock': 52, 'brand': 'Royal_Mirage', 'category': 'fragrances', 'thumbnail': 'https://cdn.dummyjson.com/product-images/12/thumbnail.jpg', 'images': ['https://cdn.dummyjson.com/product-images/12/1.jpg', 'https://cdn.dummyjson.com/product-images/12/2.jpg', 'https://cdn.dummyjson.com/product-images/12/3.png', 'https://cdn.dummyjson.com/product-images/12/4.jpg', 'https://cdn.dummyjson.com/product-images/12/thumbnail.jpg']}, {'id': 13, 'title': 'Fog Scent Xpressio Perfume', 'description': 'Product details of Best Fog Scent Xpressio Perfume 100ml For Men cool long lasting perfumes for Men', 'price': 13, 'discountPercentage': 8.14, 'rating': 4.59, 'stock': 61, 'brand': 'Fog Scent Xpressio', 'category': 'fragrances', 'thumbnail': 'https://cdn.dummyjson.com/product-images/13/thumbnail.webp', 'images': ['https://cdn.dummyjson.com/product-images/13/1.jpg', 'https://cdn.dummyjson.com/product-images/13/2.png', 'https://cdn.dummyjson.com/product-images/13/3.jpg', 'https://cdn.dummyjson.com/product-images/13/4.jpg', 'https://cdn.dummyjson.com/product-images/13/thumbnail.webp']}, {'id': 14, 'title': 'Non-Alcoholic Concentrated Perfume Oil', 'description': 'Original Al Munakh® by Mahal Al Musk | Our Impression of Climate | 6ml Non-Alcoholic Concentrated Perfume Oil', 'price': 120, 'discountPercentage': 15.6, 'rating': 4.21, 'stock': 114, 'brand': 'Al Munakh', 'category': 'fragrances', 'thumbnail': 'https://cdn.dummyjson.com/product-images/14/thumbnail.jpg', 'images': ['https://cdn.dummyjson.com/product-images/14/1.jpg', 'https://cdn.dummyjson.com/product-images/14/2.jpg', 'https://cdn.dummyjson.com/product-images/14/3.jpg', 'https://cdn.dummyjson.com/product-images/14/thumbnail.jpg']}, {'id': 15, 'title': 'Eau De Perfume Spray', 'description': 'Genuine  Al-Rehab spray perfume from UAE/Saudi Arabia/Yemen High Quality', 'price': 30, 'discountPercentage': 10.99, 'rating': 4.7, 'stock': 105, 'brand': 'Lord - Al-Rehab', 'category': 'fragrances', 'thumbnail': 'https://cdn.dummyjson.com/product-images/15/thumbnail.jpg', 'images': ['https://cdn.dummyjson.com/product-images/15/1.jpg', 'https://cdn.dummyjson.com/product-images/15/2.jpg', 'https://cdn.dummyjson.com/product-images/15/3.jpg', 'https://cdn.dummyjson.com/product-images/15/4.jpg', 'https://cdn.dummyjson.com/product-images/15/thumbnail.jpg']}, {'id': 16, 'title': 'Hyaluronic Acid Serum', 'description': \"L'OrÃ©al Paris introduces Hyaluron Expert Replumping Serum formulated with 1.5% Hyaluronic Acid\", 'price': 19, 'discountPercentage': 13.31, 'rating': 4.83, 'stock': 110, 'brand': \"L'Oreal Paris\", 'category': 'skincare', 'thumbnail': 'https://cdn.dummyjson.com/product-images/16/thumbnail.jpg', 'images': ['https://cdn.dummyjson.com/product-images/16/1.png', 'https://cdn.dummyjson.com/product-images/16/2.webp', 'https://cdn.dummyjson.com/product-images/16/3.jpg', 'https://cdn.dummyjson.com/product-images/16/4.jpg', 'https://cdn.dummyjson.com/product-images/16/thumbnail.jpg']}, {'id': 17, 'title': 'Tree Oil 30ml', 'description': 'Tea tree oil contains a number of compounds, including terpinen-4-ol, that have been shown to kill certain bacteria,', 'price': 12, 'discountPercentage': 4.09, 'rating': 4.52, 'stock': 78, 'brand': 'Hemani Tea', 'category': 'skincare', 'thumbnail': 'https://cdn.dummyjson.com/product-images/17/thumbnail.jpg', 'images': ['https://cdn.dummyjson.com/product-images/17/1.jpg', 'https://cdn.dummyjson.com/product-images/17/2.jpg', 'https://cdn.dummyjson.com/product-images/17/3.jpg', 'https://cdn.dummyjson.com/product-images/17/thumbnail.jpg']}, {'id': 18, 'title': 'Oil Free Moisturizer 100ml', 'description': 'Dermive Oil Free Moisturizer with SPF 20 is specifically formulated with ceramides, hyaluronic acid & sunscreen.', 'price': 40, 'discountPercentage': 13.1, 'rating': 4.56, 'stock': 88, 'brand': 'Dermive', 'category': 'skincare', 'thumbnail': 'https://cdn.dummyjson.com/product-images/18/thumbnail.jpg', 'images': ['https://cdn.dummyjson.com/product-images/18/1.jpg', 'https://cdn.dummyjson.com/product-images/18/2.jpg', 'https://cdn.dummyjson.com/product-images/18/3.jpg', 'https://cdn.dummyjson.com/product-images/18/4.jpg', 'https://cdn.dummyjson.com/product-images/18/thumbnail.jpg']}, {'id': 19, 'title': 'Skin Beauty Serum.', 'description': 'Product name: rorec collagen hyaluronic acid white face serum riceNet weight: 15 m', 'price': 46, 'discountPercentage': 10.68, 'rating': 4.42, 'stock': 54, 'brand': 'ROREC White Rice', 'category': 'skincare', 'thumbnail': 'https://cdn.dummyjson.com/product-images/19/thumbnail.jpg', 'images': ['https://cdn.dummyjson.com/product-images/19/1.jpg', 'https://cdn.dummyjson.com/product-images/19/2.jpg', 'https://cdn.dummyjson.com/product-images/19/3.png', 'https://cdn.dummyjson.com/product-images/19/thumbnail.jpg']}, {'id': 20, 'title': 'Freckle Treatment Cream- 15gm', 'description': \"Fair & Clear is Pakistan's only pure Freckle cream which helpsfade Freckles, Darkspots and pigments. Mercury level is 0%, so there are no side effects.\", 'price': 70, 'discountPercentage': 16.99, 'rating': 4.06, 'stock': 140, 'brand': 'Fair & Clear', 'category': 'skincare', 'thumbnail': 'https://cdn.dummyjson.com/product-images/20/thumbnail.jpg', 'images': ['https://cdn.dummyjson.com/product-images/20/1.jpg', 'https://cdn.dummyjson.com/product-images/20/2.jpg', 'https://cdn.dummyjson.com/product-images/20/3.jpg', 'https://cdn.dummyjson.com/product-images/20/4.jpg', 'https://cdn.dummyjson.com/product-images/20/thumbnail.jpg']}, {'id': 21, 'title': '- Daal Masoor 500 grams', 'description': 'Fine quality Branded Product Keep in a cool and dry place', 'price': 20, 'discountPercentage': 4.81, 'rating': 4.44, 'stock': 133, 'brand': 'Saaf & Khaas', 'category': 'groceries', 'thumbnail': 'https://cdn.dummyjson.com/product-images/21/thumbnail.png', 'images': ['https://cdn.dummyjson.com/product-images/21/1.png', 'https://cdn.dummyjson.com/product-images/21/2.jpg', 'https://cdn.dummyjson.com/product-images/21/3.jpg']}, {'id': 22, 'title': 'Elbow Macaroni - 400 gm', 'description': 'Product details of Bake Parlor Big Elbow Macaroni - 400 gm', 'price': 14, 'discountPercentage': 15.58, 'rating': 4.57, 'stock': 146, 'brand': 'Bake Parlor Big', 'category': 'groceries', 'thumbnail': 'https://cdn.dummyjson.com/product-images/22/thumbnail.jpg', 'images': ['https://cdn.dummyjson.com/product-images/22/1.jpg', 'https://cdn.dummyjson.com/product-images/22/2.jpg', 'https://cdn.dummyjson.com/product-images/22/3.jpg']}, {'id': 23, 'title': 'Orange Essence Food Flavou', 'description': 'Specifications of Orange Essence Food Flavour For Cakes and Baking Food Item', 'price': 14, 'discountPercentage': 8.04, 'rating': 4.85, 'stock': 26, 'brand': 'Baking Food Items', 'category': 'groceries', 'thumbnail': 'https://cdn.dummyjson.com/product-images/23/thumbnail.jpg', 'images': ['https://cdn.dummyjson.com/product-images/23/1.jpg', 'https://cdn.dummyjson.com/product-images/23/2.jpg', 'https://cdn.dummyjson.com/product-images/23/3.jpg', 'https://cdn.dummyjson.com/product-images/23/4.jpg', 'https://cdn.dummyjson.com/product-images/23/thumbnail.jpg']}, {'id': 24, 'title': 'cereals muesli fruit nuts', 'description': 'original fauji cereal muesli 250gm box pack original fauji cereals muesli fruit nuts flakes breakfast cereal break fast faujicereals cerels cerel foji fouji', 'price': 46, 'discountPercentage': 16.8, 'rating': 4.94, 'stock': 113, 'brand': 'fauji', 'category': 'groceries', 'thumbnail': 'https://cdn.dummyjson.com/product-images/24/thumbnail.jpg', 'images': ['https://cdn.dummyjson.com/product-images/24/1.jpg', 'https://cdn.dummyjson.com/product-images/24/2.jpg', 'https://cdn.dummyjson.com/product-images/24/3.jpg', 'https://cdn.dummyjson.com/product-images/24/4.jpg', 'https://cdn.dummyjson.com/product-images/24/thumbnail.jpg']}, {'id': 25, 'title': 'Gulab Powder 50 Gram', 'description': 'Dry Rose Flower Powder Gulab Powder 50 Gram • Treats Wounds', 'price': 70, 'discountPercentage': 13.58, 'rating': 4.87, 'stock': 47, 'brand': 'Dry Rose', 'category': 'groceries', 'thumbnail': 'https://cdn.dummyjson.com/product-images/25/thumbnail.jpg', 'images': ['https://cdn.dummyjson.com/product-images/25/1.png', 'https://cdn.dummyjson.com/product-images/25/2.jpg', 'https://cdn.dummyjson.com/product-images/25/3.png', 'https://cdn.dummyjson.com/product-images/25/4.jpg', 'https://cdn.dummyjson.com/product-images/25/thumbnail.jpg']}, {'id': 26, 'title': 'Plant Hanger For Home', 'description': 'Boho Decor Plant Hanger For Home Wall Decoration Macrame Wall Hanging Shelf', 'price': 41, 'discountPercentage': 17.86, 'rating': 4.08, 'stock': 131, 'brand': 'Boho Decor', 'category': 'home-decoration', 'thumbnail': 'https://cdn.dummyjson.com/product-images/26/thumbnail.jpg', 'images': ['https://cdn.dummyjson.com/product-images/26/1.jpg', 'https://cdn.dummyjson.com/product-images/26/2.jpg', 'https://cdn.dummyjson.com/product-images/26/3.jpg', 'https://cdn.dummyjson.com/product-images/26/4.jpg', 'https://cdn.dummyjson.com/product-images/26/5.jpg', 'https://cdn.dummyjson.com/product-images/26/thumbnail.jpg']}, {'id': 27, 'title': 'Flying Wooden Bird', 'description': 'Package Include 6 Birds with Adhesive Tape Shape: 3D Shaped Wooden Birds Material: Wooden MDF, Laminated 3.5mm', 'price': 51, 'discountPercentage': 15.58, 'rating': 4.41, 'stock': 17, 'brand': 'Flying Wooden', 'category': 'home-decoration', 'thumbnail': 'https://cdn.dummyjson.com/product-images/27/thumbnail.webp', 'images': ['https://cdn.dummyjson.com/product-images/27/1.jpg', 'https://cdn.dummyjson.com/product-images/27/2.jpg', 'https://cdn.dummyjson.com/product-images/27/3.jpg', 'https://cdn.dummyjson.com/product-images/27/4.jpg', 'https://cdn.dummyjson.com/product-images/27/thumbnail.webp']}, {'id': 28, 'title': '3D Embellishment Art Lamp', 'description': '3D led lamp sticker Wall sticker 3d wall art light on/off button  cell operated (included)', 'price': 20, 'discountPercentage': 16.49, 'rating': 4.82, 'stock': 54, 'brand': 'LED Lights', 'category': 'home-decoration', 'thumbnail': 'https://cdn.dummyjson.com/product-images/28/thumbnail.jpg', 'images': ['https://cdn.dummyjson.com/product-images/28/1.jpg', 'https://cdn.dummyjson.com/product-images/28/2.jpg', 'https://cdn.dummyjson.com/product-images/28/3.png', 'https://cdn.dummyjson.com/product-images/28/4.jpg', 'https://cdn.dummyjson.com/product-images/28/thumbnail.jpg']}, {'id': 29, 'title': 'Handcraft Chinese style', 'description': 'Handcraft Chinese style art luxury palace hotel villa mansion home decor ceramic vase with brass fruit plate', 'price': 60, 'discountPercentage': 15.34, 'rating': 4.44, 'stock': 7, 'brand': 'luxury palace', 'category': 'home-decoration', 'thumbnail': 'https://cdn.dummyjson.com/product-images/29/thumbnail.webp', 'images': ['https://cdn.dummyjson.com/product-images/29/1.jpg', 'https://cdn.dummyjson.com/product-images/29/2.jpg', 'https://cdn.dummyjson.com/product-images/29/3.webp', 'https://cdn.dummyjson.com/product-images/29/4.webp', 'https://cdn.dummyjson.com/product-images/29/thumbnail.webp']}, {'id': 30, 'title': 'Key Holder', 'description': 'Attractive DesignMetallic materialFour key hooksReliable & DurablePremium Quality', 'price': 30, 'discountPercentage': 2.92, 'rating': 4.92, 'stock': 54, 'brand': 'Golden', 'category': 'home-decoration', 'thumbnail': 'https://cdn.dummyjson.com/product-images/30/thumbnail.jpg', 'images': ['https://cdn.dummyjson.com/product-images/30/1.jpg', 'https://cdn.dummyjson.com/product-images/30/2.jpg', 'https://cdn.dummyjson.com/product-images/30/3.jpg', 'https://cdn.dummyjson.com/product-images/30/thumbnail.jpg']}], 'total': 100, 'skip': 0, 'limit': 30}\n"
     ]
    }
   ],
   "source": [
    "#Handling HTTPS errors\n",
    "import requests\n",
    "reponse = requests.get(f'{url}/data')\n",
    "try:\n",
    "    response.raise_for_status() #raises https error if there's 4xx, 5xx\n",
    "    data = response.json()\n",
    "    print(data)\n",
    "except requests.exceptions.HTTPError as err:\n",
    "    print(f'HTTP Error: {err}')\n"
   ]
  },
  {
   "cell_type": "code",
   "execution_count": 59,
   "id": "46281f3c-e7fc-42c5-8c76-62bde70ad329",
   "metadata": {},
   "outputs": [
    {
     "name": "stdout",
     "output_type": "stream",
     "text": [
      "{'products': [{'id': 1, 'title': 'iPhone 9', 'description': 'An apple mobile which is nothing like apple', 'price': 549, 'discountPercentage': 12.96, 'rating': 4.69, 'stock': 94, 'brand': 'Apple', 'category': 'smartphones', 'thumbnail': 'https://cdn.dummyjson.com/product-images/1/thumbnail.jpg', 'images': ['https://cdn.dummyjson.com/product-images/1/1.jpg', 'https://cdn.dummyjson.com/product-images/1/2.jpg', 'https://cdn.dummyjson.com/product-images/1/3.jpg', 'https://cdn.dummyjson.com/product-images/1/4.jpg', 'https://cdn.dummyjson.com/product-images/1/thumbnail.jpg']}, {'id': 2, 'title': 'iPhone X', 'description': 'SIM-Free, Model A19211 6.5-inch Super Retina HD display with OLED technology A12 Bionic chip with ...', 'price': 899, 'discountPercentage': 17.94, 'rating': 4.44, 'stock': 34, 'brand': 'Apple', 'category': 'smartphones', 'thumbnail': 'https://cdn.dummyjson.com/product-images/2/thumbnail.jpg', 'images': ['https://cdn.dummyjson.com/product-images/2/1.jpg', 'https://cdn.dummyjson.com/product-images/2/2.jpg', 'https://cdn.dummyjson.com/product-images/2/3.jpg', 'https://cdn.dummyjson.com/product-images/2/thumbnail.jpg']}, {'id': 3, 'title': 'Samsung Universe 9', 'description': \"Samsung's new variant which goes beyond Galaxy to the Universe\", 'price': 1249, 'discountPercentage': 15.46, 'rating': 4.09, 'stock': 36, 'brand': 'Samsung', 'category': 'smartphones', 'thumbnail': 'https://cdn.dummyjson.com/product-images/3/thumbnail.jpg', 'images': ['https://cdn.dummyjson.com/product-images/3/1.jpg']}, {'id': 4, 'title': 'OPPOF19', 'description': 'OPPO F19 is officially announced on April 2021.', 'price': 280, 'discountPercentage': 17.91, 'rating': 4.3, 'stock': 123, 'brand': 'OPPO', 'category': 'smartphones', 'thumbnail': 'https://cdn.dummyjson.com/product-images/4/thumbnail.jpg', 'images': ['https://cdn.dummyjson.com/product-images/4/1.jpg', 'https://cdn.dummyjson.com/product-images/4/2.jpg', 'https://cdn.dummyjson.com/product-images/4/3.jpg', 'https://cdn.dummyjson.com/product-images/4/4.jpg', 'https://cdn.dummyjson.com/product-images/4/thumbnail.jpg']}, {'id': 5, 'title': 'Huawei P30', 'description': 'Huawei’s re-badged P30 Pro New Edition was officially unveiled yesterday in Germany and now the device has made its way to the UK.', 'price': 499, 'discountPercentage': 10.58, 'rating': 4.09, 'stock': 32, 'brand': 'Huawei', 'category': 'smartphones', 'thumbnail': 'https://cdn.dummyjson.com/product-images/5/thumbnail.jpg', 'images': ['https://cdn.dummyjson.com/product-images/5/1.jpg', 'https://cdn.dummyjson.com/product-images/5/2.jpg', 'https://cdn.dummyjson.com/product-images/5/3.jpg']}, {'id': 6, 'title': 'MacBook Pro', 'description': 'MacBook Pro 2021 with mini-LED display may launch between September, November', 'price': 1749, 'discountPercentage': 11.02, 'rating': 4.57, 'stock': 83, 'brand': 'Apple', 'category': 'laptops', 'thumbnail': 'https://cdn.dummyjson.com/product-images/6/thumbnail.png', 'images': ['https://cdn.dummyjson.com/product-images/6/1.png', 'https://cdn.dummyjson.com/product-images/6/2.jpg', 'https://cdn.dummyjson.com/product-images/6/3.png', 'https://cdn.dummyjson.com/product-images/6/4.jpg']}, {'id': 7, 'title': 'Samsung Galaxy Book', 'description': 'Samsung Galaxy Book S (2020) Laptop With Intel Lakefield Chip, 8GB of RAM Launched', 'price': 1499, 'discountPercentage': 4.15, 'rating': 4.25, 'stock': 50, 'brand': 'Samsung', 'category': 'laptops', 'thumbnail': 'https://cdn.dummyjson.com/product-images/7/thumbnail.jpg', 'images': ['https://cdn.dummyjson.com/product-images/7/1.jpg', 'https://cdn.dummyjson.com/product-images/7/2.jpg', 'https://cdn.dummyjson.com/product-images/7/3.jpg', 'https://cdn.dummyjson.com/product-images/7/thumbnail.jpg']}, {'id': 8, 'title': 'Microsoft Surface Laptop 4', 'description': 'Style and speed. Stand out on HD video calls backed by Studio Mics. Capture ideas on the vibrant touchscreen.', 'price': 1499, 'discountPercentage': 10.23, 'rating': 4.43, 'stock': 68, 'brand': 'Microsoft Surface', 'category': 'laptops', 'thumbnail': 'https://cdn.dummyjson.com/product-images/8/thumbnail.jpg', 'images': ['https://cdn.dummyjson.com/product-images/8/1.jpg', 'https://cdn.dummyjson.com/product-images/8/2.jpg', 'https://cdn.dummyjson.com/product-images/8/3.jpg', 'https://cdn.dummyjson.com/product-images/8/4.jpg', 'https://cdn.dummyjson.com/product-images/8/thumbnail.jpg']}, {'id': 9, 'title': 'Infinix INBOOK', 'description': 'Infinix Inbook X1 Ci3 10th 8GB 256GB 14 Win10 Grey – 1 Year Warranty', 'price': 1099, 'discountPercentage': 11.83, 'rating': 4.54, 'stock': 96, 'brand': 'Infinix', 'category': 'laptops', 'thumbnail': 'https://cdn.dummyjson.com/product-images/9/thumbnail.jpg', 'images': ['https://cdn.dummyjson.com/product-images/9/1.jpg', 'https://cdn.dummyjson.com/product-images/9/2.png', 'https://cdn.dummyjson.com/product-images/9/3.png', 'https://cdn.dummyjson.com/product-images/9/4.jpg', 'https://cdn.dummyjson.com/product-images/9/thumbnail.jpg']}, {'id': 10, 'title': 'HP Pavilion 15-DK1056WM', 'description': 'HP Pavilion 15-DK1056WM Gaming Laptop 10th Gen Core i5, 8GB, 256GB SSD, GTX 1650 4GB, Windows 10', 'price': 1099, 'discountPercentage': 6.18, 'rating': 4.43, 'stock': 89, 'brand': 'HP Pavilion', 'category': 'laptops', 'thumbnail': 'https://cdn.dummyjson.com/product-images/10/thumbnail.jpeg', 'images': ['https://cdn.dummyjson.com/product-images/10/1.jpg', 'https://cdn.dummyjson.com/product-images/10/2.jpg', 'https://cdn.dummyjson.com/product-images/10/3.jpg', 'https://cdn.dummyjson.com/product-images/10/thumbnail.jpeg']}, {'id': 11, 'title': 'perfume Oil', 'description': 'Mega Discount, Impression of Acqua Di Gio by GiorgioArmani concentrated attar perfume Oil', 'price': 13, 'discountPercentage': 8.4, 'rating': 4.26, 'stock': 65, 'brand': 'Impression of Acqua Di Gio', 'category': 'fragrances', 'thumbnail': 'https://cdn.dummyjson.com/product-images/11/thumbnail.jpg', 'images': ['https://cdn.dummyjson.com/product-images/11/1.jpg', 'https://cdn.dummyjson.com/product-images/11/2.jpg', 'https://cdn.dummyjson.com/product-images/11/3.jpg', 'https://cdn.dummyjson.com/product-images/11/thumbnail.jpg']}, {'id': 12, 'title': 'Brown Perfume', 'description': 'Royal_Mirage Sport Brown Perfume for Men & Women - 120ml', 'price': 40, 'discountPercentage': 15.66, 'rating': 4, 'stock': 52, 'brand': 'Royal_Mirage', 'category': 'fragrances', 'thumbnail': 'https://cdn.dummyjson.com/product-images/12/thumbnail.jpg', 'images': ['https://cdn.dummyjson.com/product-images/12/1.jpg', 'https://cdn.dummyjson.com/product-images/12/2.jpg', 'https://cdn.dummyjson.com/product-images/12/3.png', 'https://cdn.dummyjson.com/product-images/12/4.jpg', 'https://cdn.dummyjson.com/product-images/12/thumbnail.jpg']}, {'id': 13, 'title': 'Fog Scent Xpressio Perfume', 'description': 'Product details of Best Fog Scent Xpressio Perfume 100ml For Men cool long lasting perfumes for Men', 'price': 13, 'discountPercentage': 8.14, 'rating': 4.59, 'stock': 61, 'brand': 'Fog Scent Xpressio', 'category': 'fragrances', 'thumbnail': 'https://cdn.dummyjson.com/product-images/13/thumbnail.webp', 'images': ['https://cdn.dummyjson.com/product-images/13/1.jpg', 'https://cdn.dummyjson.com/product-images/13/2.png', 'https://cdn.dummyjson.com/product-images/13/3.jpg', 'https://cdn.dummyjson.com/product-images/13/4.jpg', 'https://cdn.dummyjson.com/product-images/13/thumbnail.webp']}, {'id': 14, 'title': 'Non-Alcoholic Concentrated Perfume Oil', 'description': 'Original Al Munakh® by Mahal Al Musk | Our Impression of Climate | 6ml Non-Alcoholic Concentrated Perfume Oil', 'price': 120, 'discountPercentage': 15.6, 'rating': 4.21, 'stock': 114, 'brand': 'Al Munakh', 'category': 'fragrances', 'thumbnail': 'https://cdn.dummyjson.com/product-images/14/thumbnail.jpg', 'images': ['https://cdn.dummyjson.com/product-images/14/1.jpg', 'https://cdn.dummyjson.com/product-images/14/2.jpg', 'https://cdn.dummyjson.com/product-images/14/3.jpg', 'https://cdn.dummyjson.com/product-images/14/thumbnail.jpg']}, {'id': 15, 'title': 'Eau De Perfume Spray', 'description': 'Genuine  Al-Rehab spray perfume from UAE/Saudi Arabia/Yemen High Quality', 'price': 30, 'discountPercentage': 10.99, 'rating': 4.7, 'stock': 105, 'brand': 'Lord - Al-Rehab', 'category': 'fragrances', 'thumbnail': 'https://cdn.dummyjson.com/product-images/15/thumbnail.jpg', 'images': ['https://cdn.dummyjson.com/product-images/15/1.jpg', 'https://cdn.dummyjson.com/product-images/15/2.jpg', 'https://cdn.dummyjson.com/product-images/15/3.jpg', 'https://cdn.dummyjson.com/product-images/15/4.jpg', 'https://cdn.dummyjson.com/product-images/15/thumbnail.jpg']}, {'id': 16, 'title': 'Hyaluronic Acid Serum', 'description': \"L'OrÃ©al Paris introduces Hyaluron Expert Replumping Serum formulated with 1.5% Hyaluronic Acid\", 'price': 19, 'discountPercentage': 13.31, 'rating': 4.83, 'stock': 110, 'brand': \"L'Oreal Paris\", 'category': 'skincare', 'thumbnail': 'https://cdn.dummyjson.com/product-images/16/thumbnail.jpg', 'images': ['https://cdn.dummyjson.com/product-images/16/1.png', 'https://cdn.dummyjson.com/product-images/16/2.webp', 'https://cdn.dummyjson.com/product-images/16/3.jpg', 'https://cdn.dummyjson.com/product-images/16/4.jpg', 'https://cdn.dummyjson.com/product-images/16/thumbnail.jpg']}, {'id': 17, 'title': 'Tree Oil 30ml', 'description': 'Tea tree oil contains a number of compounds, including terpinen-4-ol, that have been shown to kill certain bacteria,', 'price': 12, 'discountPercentage': 4.09, 'rating': 4.52, 'stock': 78, 'brand': 'Hemani Tea', 'category': 'skincare', 'thumbnail': 'https://cdn.dummyjson.com/product-images/17/thumbnail.jpg', 'images': ['https://cdn.dummyjson.com/product-images/17/1.jpg', 'https://cdn.dummyjson.com/product-images/17/2.jpg', 'https://cdn.dummyjson.com/product-images/17/3.jpg', 'https://cdn.dummyjson.com/product-images/17/thumbnail.jpg']}, {'id': 18, 'title': 'Oil Free Moisturizer 100ml', 'description': 'Dermive Oil Free Moisturizer with SPF 20 is specifically formulated with ceramides, hyaluronic acid & sunscreen.', 'price': 40, 'discountPercentage': 13.1, 'rating': 4.56, 'stock': 88, 'brand': 'Dermive', 'category': 'skincare', 'thumbnail': 'https://cdn.dummyjson.com/product-images/18/thumbnail.jpg', 'images': ['https://cdn.dummyjson.com/product-images/18/1.jpg', 'https://cdn.dummyjson.com/product-images/18/2.jpg', 'https://cdn.dummyjson.com/product-images/18/3.jpg', 'https://cdn.dummyjson.com/product-images/18/4.jpg', 'https://cdn.dummyjson.com/product-images/18/thumbnail.jpg']}, {'id': 19, 'title': 'Skin Beauty Serum.', 'description': 'Product name: rorec collagen hyaluronic acid white face serum riceNet weight: 15 m', 'price': 46, 'discountPercentage': 10.68, 'rating': 4.42, 'stock': 54, 'brand': 'ROREC White Rice', 'category': 'skincare', 'thumbnail': 'https://cdn.dummyjson.com/product-images/19/thumbnail.jpg', 'images': ['https://cdn.dummyjson.com/product-images/19/1.jpg', 'https://cdn.dummyjson.com/product-images/19/2.jpg', 'https://cdn.dummyjson.com/product-images/19/3.png', 'https://cdn.dummyjson.com/product-images/19/thumbnail.jpg']}, {'id': 20, 'title': 'Freckle Treatment Cream- 15gm', 'description': \"Fair & Clear is Pakistan's only pure Freckle cream which helpsfade Freckles, Darkspots and pigments. Mercury level is 0%, so there are no side effects.\", 'price': 70, 'discountPercentage': 16.99, 'rating': 4.06, 'stock': 140, 'brand': 'Fair & Clear', 'category': 'skincare', 'thumbnail': 'https://cdn.dummyjson.com/product-images/20/thumbnail.jpg', 'images': ['https://cdn.dummyjson.com/product-images/20/1.jpg', 'https://cdn.dummyjson.com/product-images/20/2.jpg', 'https://cdn.dummyjson.com/product-images/20/3.jpg', 'https://cdn.dummyjson.com/product-images/20/4.jpg', 'https://cdn.dummyjson.com/product-images/20/thumbnail.jpg']}, {'id': 21, 'title': '- Daal Masoor 500 grams', 'description': 'Fine quality Branded Product Keep in a cool and dry place', 'price': 20, 'discountPercentage': 4.81, 'rating': 4.44, 'stock': 133, 'brand': 'Saaf & Khaas', 'category': 'groceries', 'thumbnail': 'https://cdn.dummyjson.com/product-images/21/thumbnail.png', 'images': ['https://cdn.dummyjson.com/product-images/21/1.png', 'https://cdn.dummyjson.com/product-images/21/2.jpg', 'https://cdn.dummyjson.com/product-images/21/3.jpg']}, {'id': 22, 'title': 'Elbow Macaroni - 400 gm', 'description': 'Product details of Bake Parlor Big Elbow Macaroni - 400 gm', 'price': 14, 'discountPercentage': 15.58, 'rating': 4.57, 'stock': 146, 'brand': 'Bake Parlor Big', 'category': 'groceries', 'thumbnail': 'https://cdn.dummyjson.com/product-images/22/thumbnail.jpg', 'images': ['https://cdn.dummyjson.com/product-images/22/1.jpg', 'https://cdn.dummyjson.com/product-images/22/2.jpg', 'https://cdn.dummyjson.com/product-images/22/3.jpg']}, {'id': 23, 'title': 'Orange Essence Food Flavou', 'description': 'Specifications of Orange Essence Food Flavour For Cakes and Baking Food Item', 'price': 14, 'discountPercentage': 8.04, 'rating': 4.85, 'stock': 26, 'brand': 'Baking Food Items', 'category': 'groceries', 'thumbnail': 'https://cdn.dummyjson.com/product-images/23/thumbnail.jpg', 'images': ['https://cdn.dummyjson.com/product-images/23/1.jpg', 'https://cdn.dummyjson.com/product-images/23/2.jpg', 'https://cdn.dummyjson.com/product-images/23/3.jpg', 'https://cdn.dummyjson.com/product-images/23/4.jpg', 'https://cdn.dummyjson.com/product-images/23/thumbnail.jpg']}, {'id': 24, 'title': 'cereals muesli fruit nuts', 'description': 'original fauji cereal muesli 250gm box pack original fauji cereals muesli fruit nuts flakes breakfast cereal break fast faujicereals cerels cerel foji fouji', 'price': 46, 'discountPercentage': 16.8, 'rating': 4.94, 'stock': 113, 'brand': 'fauji', 'category': 'groceries', 'thumbnail': 'https://cdn.dummyjson.com/product-images/24/thumbnail.jpg', 'images': ['https://cdn.dummyjson.com/product-images/24/1.jpg', 'https://cdn.dummyjson.com/product-images/24/2.jpg', 'https://cdn.dummyjson.com/product-images/24/3.jpg', 'https://cdn.dummyjson.com/product-images/24/4.jpg', 'https://cdn.dummyjson.com/product-images/24/thumbnail.jpg']}, {'id': 25, 'title': 'Gulab Powder 50 Gram', 'description': 'Dry Rose Flower Powder Gulab Powder 50 Gram • Treats Wounds', 'price': 70, 'discountPercentage': 13.58, 'rating': 4.87, 'stock': 47, 'brand': 'Dry Rose', 'category': 'groceries', 'thumbnail': 'https://cdn.dummyjson.com/product-images/25/thumbnail.jpg', 'images': ['https://cdn.dummyjson.com/product-images/25/1.png', 'https://cdn.dummyjson.com/product-images/25/2.jpg', 'https://cdn.dummyjson.com/product-images/25/3.png', 'https://cdn.dummyjson.com/product-images/25/4.jpg', 'https://cdn.dummyjson.com/product-images/25/thumbnail.jpg']}, {'id': 26, 'title': 'Plant Hanger For Home', 'description': 'Boho Decor Plant Hanger For Home Wall Decoration Macrame Wall Hanging Shelf', 'price': 41, 'discountPercentage': 17.86, 'rating': 4.08, 'stock': 131, 'brand': 'Boho Decor', 'category': 'home-decoration', 'thumbnail': 'https://cdn.dummyjson.com/product-images/26/thumbnail.jpg', 'images': ['https://cdn.dummyjson.com/product-images/26/1.jpg', 'https://cdn.dummyjson.com/product-images/26/2.jpg', 'https://cdn.dummyjson.com/product-images/26/3.jpg', 'https://cdn.dummyjson.com/product-images/26/4.jpg', 'https://cdn.dummyjson.com/product-images/26/5.jpg', 'https://cdn.dummyjson.com/product-images/26/thumbnail.jpg']}, {'id': 27, 'title': 'Flying Wooden Bird', 'description': 'Package Include 6 Birds with Adhesive Tape Shape: 3D Shaped Wooden Birds Material: Wooden MDF, Laminated 3.5mm', 'price': 51, 'discountPercentage': 15.58, 'rating': 4.41, 'stock': 17, 'brand': 'Flying Wooden', 'category': 'home-decoration', 'thumbnail': 'https://cdn.dummyjson.com/product-images/27/thumbnail.webp', 'images': ['https://cdn.dummyjson.com/product-images/27/1.jpg', 'https://cdn.dummyjson.com/product-images/27/2.jpg', 'https://cdn.dummyjson.com/product-images/27/3.jpg', 'https://cdn.dummyjson.com/product-images/27/4.jpg', 'https://cdn.dummyjson.com/product-images/27/thumbnail.webp']}, {'id': 28, 'title': '3D Embellishment Art Lamp', 'description': '3D led lamp sticker Wall sticker 3d wall art light on/off button  cell operated (included)', 'price': 20, 'discountPercentage': 16.49, 'rating': 4.82, 'stock': 54, 'brand': 'LED Lights', 'category': 'home-decoration', 'thumbnail': 'https://cdn.dummyjson.com/product-images/28/thumbnail.jpg', 'images': ['https://cdn.dummyjson.com/product-images/28/1.jpg', 'https://cdn.dummyjson.com/product-images/28/2.jpg', 'https://cdn.dummyjson.com/product-images/28/3.png', 'https://cdn.dummyjson.com/product-images/28/4.jpg', 'https://cdn.dummyjson.com/product-images/28/thumbnail.jpg']}, {'id': 29, 'title': 'Handcraft Chinese style', 'description': 'Handcraft Chinese style art luxury palace hotel villa mansion home decor ceramic vase with brass fruit plate', 'price': 60, 'discountPercentage': 15.34, 'rating': 4.44, 'stock': 7, 'brand': 'luxury palace', 'category': 'home-decoration', 'thumbnail': 'https://cdn.dummyjson.com/product-images/29/thumbnail.webp', 'images': ['https://cdn.dummyjson.com/product-images/29/1.jpg', 'https://cdn.dummyjson.com/product-images/29/2.jpg', 'https://cdn.dummyjson.com/product-images/29/3.webp', 'https://cdn.dummyjson.com/product-images/29/4.webp', 'https://cdn.dummyjson.com/product-images/29/thumbnail.webp']}, {'id': 30, 'title': 'Key Holder', 'description': 'Attractive DesignMetallic materialFour key hooksReliable & DurablePremium Quality', 'price': 30, 'discountPercentage': 2.92, 'rating': 4.92, 'stock': 54, 'brand': 'Golden', 'category': 'home-decoration', 'thumbnail': 'https://cdn.dummyjson.com/product-images/30/thumbnail.jpg', 'images': ['https://cdn.dummyjson.com/product-images/30/1.jpg', 'https://cdn.dummyjson.com/product-images/30/2.jpg', 'https://cdn.dummyjson.com/product-images/30/3.jpg', 'https://cdn.dummyjson.com/product-images/30/thumbnail.jpg']}], 'total': 100, 'skip': 0, 'limit': 30}\n"
     ]
    }
   ],
   "source": [
    "#Setting time out\n",
    "try:\n",
    "    reponse = requests.get(f'{url}/data', timeout = 5) #5 seconds \n",
    "    data = response.json()\n",
    "    print(data)\n",
    "except requests.exceptions.Timeout:\n",
    "    print('The request timed out')"
   ]
  },
  {
   "cell_type": "code",
   "execution_count": 60,
   "id": "f9ec4067-7286-434a-acec-d8f49bfa7cea",
   "metadata": {},
   "outputs": [],
   "source": [
    "#Using Headers in requestsget(f'{url}/protected')\n",
    "headers = {'Authorization':'Bearer YOUR_ACCESS_TOKEN'}\n",
    "response = requests.get(f'{url}/protected', headers=headers)\n",
    "data = response.json()"
   ]
  },
  {
   "cell_type": "code",
   "execution_count": 61,
   "id": "ba6488c8-b631-4437-89f2-f486dee20cf4",
   "metadata": {},
   "outputs": [],
   "source": [
    "#Post request with payload\n",
    "#payload = {'key1':'value1', 'key2':'value2'}\n",
    "#headers = {'Content-Type':'application/json'}\n",
    "#response = requests.post(f'{url}/submit', json=payload, headers=headers)\n",
    "#print(response.json())"
   ]
  },
  {
   "cell_type": "code",
   "execution_count": 62,
   "id": "462d03d1-0274-4df8-b081-f0b65bc5cb77",
   "metadata": {},
   "outputs": [
    {
     "name": "stdout",
     "output_type": "stream",
     "text": [
      "{\"message\":\"Product with id 'protected' not found\"}\n"
     ]
    }
   ],
   "source": [
    "#Handling response encoding\n",
    "reponse = requests.get(f'{url}/data')\n",
    "response.encoding = 'utf-8'\n",
    "data = response.text\n",
    "print(data)"
   ]
  },
  {
   "cell_type": "code",
   "execution_count": 63,
   "id": "9c7fbb44-c08b-415b-81c7-f93ea9642cab",
   "metadata": {},
   "outputs": [
    {
     "name": "stdout",
     "output_type": "stream",
     "text": [
      "{'message': \"Product with id 'data' not found\"}\n"
     ]
    }
   ],
   "source": [
    "#Ussing session and requests\n",
    "with requests.Session() as session:\n",
    "    session.headers.update({'Authorization': 'Bearer YOUR_ACCESS_TOKEN'})\n",
    "    response = session.get(f'{url}/2')\n",
    "    print(reponse.json())"
   ]
  },
  {
   "cell_type": "code",
   "execution_count": 64,
   "id": "f34da67b-7a9a-4853-a351-b3ba7cb302be",
   "metadata": {},
   "outputs": [
    {
     "name": "stdout",
     "output_type": "stream",
     "text": [
      "200\n"
     ]
    }
   ],
   "source": [
    "#Handling redirect\n",
    "response = requests.get(f'{url}/3', allow_redirects=False)\n",
    "print(response.status_code)"
   ]
  },
  {
   "cell_type": "code",
   "execution_count": 65,
   "id": "03bd6d04-8b5f-4c54-84e2-c2a4b1c9a14f",
   "metadata": {},
   "outputs": [
    {
     "name": "stdout",
     "output_type": "stream",
     "text": [
      "b'{\"products\":[{\"id\":1,\"title\":\"iPhone 9\",\"description\":\"An apple mobile which is nothing like apple\",\"price\":549,\"discountPercentage\":12.96,\"rating\":4.69,\"stock\":94,\"brand\":\"Apple\",\"category\":\"smartphones\",\"thumbnail\":\"https://cdn.dummyjson.com/product-images/1/thumbnail.jpg\",\"images\":[\"https://cdn.dummyjson.com/product-images/1/1.jpg\",\"https://cdn.dummyjson.com/product-images/1/2.jpg\",\"https://cdn.dummyjson.com/product-images/1/3.jpg\",\"https://cdn.dummyjson.com/product-images/1/4.jpg\",\"https://cdn.dummyjson.com/product-images/1/thumbnail.jpg\"]},{\"id\":2,\"title\":\"iPhone X\",\"description\":\"SIM-Free, Model A19211 6.5-inch Super Retina HD display with OLED technology A12 Bionic chip with ...\",\"price\":899,\"discountPercentage\":17.94,\"rating\":4.44,\"stock\":34,\"brand\":\"Apple\",\"category\":\"smartphones\",\"thumbnail\":\"https://cdn.dummyjson.com/product-images/2/thumbnail.jpg\",\"images\":[\"https://cdn.dummyjson.com/product-images/2/1.jpg\",\"https://cdn.dummyjson.com/product-images/2/2.jpg\",\"https://cdn.dummyjson.com/product-images/2/3.jpg\",\"https://cdn.dummyjson.com/product-images/2/thumbnail.jpg\"]},{\"id\":3,\"title\":\"Samsung Universe 9\",\"description\":\"Samsung\\'s new variant which goes beyond Galaxy to the Universe\",\"price\":1249,\"discountPercentage\":15.46,\"rating\":4.09,\"stock\":36,\"brand\":\"Samsung\",\"category\":\"smartphones\",\"thumbnail\":\"https://cdn.dummyjson.com/product-images/3/thumbnail.jpg\",\"images\":[\"https://cdn.dummyjson.com/product-images/3/1.jpg\"]},{\"id\":4,\"title\":\"OPPOF19\",\"description\":\"OPPO F19 is officially announced on April 2021.\",\"price\":280,\"discountPercentage\":17.91,\"rating\":4.3,\"stock\":123,\"brand\":\"OPPO\",\"category\":\"smartphones\",\"thumbnail\":\"https://cdn.dummyjson.com/product-images/4/thumbnail.jpg\",\"images\":[\"https://cdn.dummyjson.com/product-images/4/1.jpg\",\"https://cdn.dummyjson.com/product-images/4/2.jpg\",\"https://cdn.dummyjson.com/product-images/4/3.jpg\",\"https://cdn.dummyjson.com/product-images/4/4.jpg\",\"https://cdn.dummyjson.com/product-images/4/thumbnail.jpg\"]},{\"id\":5,\"title\":\"Huawei P30\",\"description\":\"Huawei\\xe2\\x80\\x99s re-badged P30 Pro New Edition was officially unveiled yesterday in Germany and now the device has made its way to the UK.\",\"price\":499,\"discountPercentage\":10.58,\"rating\":4.09,\"stock\":32,\"brand\":\"Huawei\",\"category\":\"smartphones\",\"thumbnail\":\"https://cdn.dummyjson.com/product-images/5/thumbnail.jpg\",\"images\":[\"https://cdn.dummyjson.com/product-images/5/1.jpg\",\"https://cdn.dummyjson.com/product-images/5/2.jpg\",\"https://cdn.dummyjson.com/product-images/5/3.jpg\"]},{\"id\":6,\"title\":\"MacBook Pro\",\"description\":\"MacBook Pro 2021 with mini-LED display may launch between September, November\",\"price\":1749,\"discountPercentage\":11.02,\"rating\":4.57,\"stock\":83,\"brand\":\"Apple\",\"category\":\"laptops\",\"thumbnail\":\"https://cdn.dummyjson.com/product-images/6/thumbnail.png\",\"images\":[\"https://cdn.dummyjson.com/product-images/6/1.png\",\"https://cdn.dummyjson.com/product-images/6/2.jpg\",\"https://cdn.dummyjson.com/product-images/6/3.png\",\"https://cdn.dummyjson.com/product-images/6/4.jpg\"]},{\"id\":7,\"title\":\"Samsung Galaxy Book\",\"description\":\"Samsung Galaxy Book S (2020) Laptop With Intel Lakefield Chip, 8GB of RAM Launched\",\"price\":1499,\"discountPercentage\":4.15,\"rating\":4.25,\"stock\":50,\"brand\":\"Samsung\",\"category\":\"laptops\",\"thumbnail\":\"https://cdn.dummyjson.com/product-images/7/thumbnail.jpg\",\"images\":[\"https://cdn.dummyjson.com/product-images/7/1.jpg\",\"https://cdn.dummyjson.com/product-images/7/2.jpg\",\"https://cdn.dummyjson.com/product-images/7/3.jpg\",\"https://cdn.dummyjson.com/product-images/7/thumbnail.jpg\"]},{\"id\":8,\"title\":\"Microsoft Surface Laptop 4\",\"description\":\"Style and speed. Stand out on HD video calls backed by Studio Mics. Capture ideas on the vibrant touchscreen.\",\"price\":1499,\"discountPercentage\":10.23,\"rating\":4.43,\"stock\":68,\"brand\":\"'\n",
      "b'Microsoft Surface\",\"category\":\"laptops\",\"thumbnail\":\"https://cdn.dummyjson.com/product-images/8/thumbnail.jpg\",\"images\":[\"https://cdn.dummyjson.com/product-images/8/1.jpg\",\"https://cdn.dummyjson.com/product-images/8/2.jpg\",\"https://cdn.dummyjson.com/product-images/8/3.jpg\",\"https://cdn.dummyjson.com/product-images/8/4.jpg\",\"https://cdn.dummyjson.com/product-images/8/thumbnail.jpg\"]},{\"id\":9,\"title\":\"Infinix INBOOK\",\"description\":\"Infinix Inbook X1 Ci3 10th 8GB 256GB 14 Win10 Grey \\xe2\\x80\\x93 1 Year Warranty\",\"price\":1099,\"discountPercentage\":11.83,\"rating\":4.54,\"stock\":96,\"brand\":\"Infinix\",\"category\":\"laptops\",\"thumbnail\":\"https://cdn.dummyjson.com/product-images/9/thumbnail.jpg\",\"images\":[\"https://cdn.dummyjson.com/product-images/9/1.jpg\",\"https://cdn.dummyjson.com/product-images/9/2.png\",\"https://cdn.dummyjson.com/product-images/9/3.png\",\"https://cdn.dummyjson.com/product-images/9/4.jpg\",\"https://cdn.dummyjson.com/product-images/9/thumbnail.jpg\"]},{\"id\":10,\"title\":\"HP Pavilion 15-DK1056WM\",\"description\":\"HP Pavilion 15-DK1056WM Gaming Laptop 10th Gen Core i5, 8GB, 256GB SSD, GTX 1650 4GB, Windows 10\",\"price\":1099,\"discountPercentage\":6.18,\"rating\":4.43,\"stock\":89,\"brand\":\"HP Pavilion\",\"category\":\"laptops\",\"thumbnail\":\"https://cdn.dummyjson.com/product-images/10/thumbnail.jpeg\",\"images\":[\"https://cdn.dummyjson.com/product-images/10/1.jpg\",\"https://cdn.dummyjson.com/product-images/10/2.jpg\",\"https://cdn.dummyjson.com/product-images/10/3.jpg\",\"https://cdn.dummyjson.com/product-images/10/thumbnail.jpeg\"]},{\"id\":11,\"title\":\"perfume Oil\",\"description\":\"Mega Discount, Impression of Acqua Di Gio by GiorgioArmani concentrated attar perfume Oil\",\"price\":13,\"discountPercentage\":8.4,\"rating\":4.26,\"stock\":65,\"brand\":\"Impression of Acqua Di Gio\",\"category\":\"fragrances\",\"thumbnail\":\"https://cdn.dummyjson.com/product-images/11/thumbnail.jpg\",\"images\":[\"https://cdn.dummyjson.com/product-images/11/1.jpg\",\"https://cdn.dummyjson.com/product-images/11/2.jpg\",\"https://cdn.dummyjson.com/product-images/11/3.jpg\",\"https://cdn.dummyjson.com/product-images/11/thumbnail.jpg\"]},{\"id\":12,\"title\":\"Brown Perfume\",\"description\":\"Royal_Mirage Sport Brown Perfume for Men & Women - 120ml\",\"price\":40,\"discountPercentage\":15.66,\"rating\":4,\"stock\":52,\"brand\":\"Royal_Mirage\",\"category\":\"fragrances\",\"thumbnail\":\"https://cdn.dummyjson.com/product-images/12/thumbnail.jpg\",\"images\":[\"https://cdn.dummyjson.com/product-images/12/1.jpg\",\"https://cdn.dummyjson.com/product-images/12/2.jpg\",\"https://cdn.dummyjson.com/product-images/12/3.png\",\"https://cdn.dummyjson.com/product-images/12/4.jpg\",\"https://cdn.dummyjson.com/product-images/12/thumbnail.jpg\"]},{\"id\":13,\"title\":\"Fog Scent Xpressio Perfume\",\"description\":\"Product details of Best Fog Scent Xpressio Perfume 100ml For Men cool long lasting perfumes for Men\",\"price\":13,\"discountPercentage\":8.14,\"rating\":4.59,\"stock\":61,\"brand\":\"Fog Scent Xpressio\",\"category\":\"fragrances\",\"thumbnail\":\"https://cdn.dummyjson.com/product-images/13/thumbnail.webp\",\"images\":[\"https://cdn.dummyjson.com/product-images/13/1.jpg\",\"https://cdn.dummyjson.com/product-images/13/2.png\",\"https://cdn.dummyjson.com/product-images/13/3.jpg\",\"https://cdn.dummyjson.com/product-images/13/4.jpg\",\"https://cdn.dummyjson.com/product-images/13/thumbnail.webp\"]},{\"id\":14,\"title\":\"Non-Alcoholic Concentrated Perfume Oil\",\"description\":\"Original Al Munakh\\xc2\\xae by Mahal Al Musk | Our Impression of Climate | 6ml Non-Alcoholic Concentrated Perfume Oil\",\"price\":120,\"discountPercentage\":15.6,\"rating\":4.21,\"stock\":114,\"brand\":\"Al Munakh\",\"category\":\"fragrances\",\"thumbnail\":\"https://cdn.dummyjson.com/product-images/14/thumbnail.jpg\",\"images\":[\"https://cdn.dummyjson.com/product-images/14/1.jpg\",\"https://cdn.dummyjson.com/product-images/14/2.jpg\",\"https://cdn.dummyjson.com/product-images/14/3.jpg\",\"https://cdn.dummyjson.com/product-images/14/thumbnail.jpg\"]},{\"id\":15,\"title\":\"Eau De Perfume Spray\",\"description\":\"Genuine  Al-Rehab spray perfume from UAE/Saudi Arabia/Yemen High Quality\",\"price\":30,\"discountPercentage\":10.99,\"rating\":4.7,\"stock\":105,\"brand\":\"Lord - Al-Rehab\",\"category\":\"fragrances\",\"thumbnail\":\"https://cdn.dummyjson.com/product-images/15/thumbnail.jpg\",\"images\":[\"https://cdn.dummyjson.com/product-images/15/1.jpg\",\"https://cdn.dummyjson.com/product-images/15/2.jpg\",\"https://cdn.dummyjson.com/product-images/15/3.jpg\",\"https://cdn.dummyjson.com/product-images/15/4.jpg\",\"https://cdn.dummyjson.com/product-images/15/thumbnail.jpg\"]},{\"id\":16,\"title\":\"Hyaluronic Acid Serum\",\"description\":\"L\\'Or\\xc3\\x83\\xc2\\xa9al Paris introduces Hyaluron Expert Replumping Serum formulated with 1.5% Hyaluronic Acid\",\"price\":19,\"discountPercentage\":13.31,\"rating\":4.83,\"stock\":110,\"brand\":\"L\\'Oreal Paris\",\"category\":\"skincare\",\"thumbnail\":\"https://cdn.dummyjson.com/product-images/16/thumbnail.jpg\",\"images\":[\"https://cdn.dummyjson.com/product-images/16/1.png\",\"https://cdn.dummyjson.com/product-images/16/2.webp\",\"https://cdn.dummyjson.com/product-images/16/3.jpg\",\"https://cdn.dummyjson.com/product-images/16/4.jpg\",\"https://cdn.dummyjson.com/product-images/16/thumbnail.jpg\"]},{\"id\":17,\"title\":\"Tree Oil 30ml\",\"description\":\"Tea tree oil contains a number of compounds, including terpinen-4-ol, that have been shown to kill certain bacteria,\",\"price\":12,\"discountPercentage\":4.09,\"rating\":4.52,\"stock\":78,\"brand\":\"Hemani Tea\",\"category\":\"skincare\",\"thumbnail\":\"https://cdn.dummyjson.com/product-images/17/thumbnail.jpg\",\"images\":[\"https://cdn.dummyjson.com/product-images/17/1.jpg\",\"https://cdn.dummyjson.com/product-images/17/2.jpg\",\"https://cdn.dummyjson.com/product-images/17/3.jpg\",\"https://cdn.dummyjson.com/product-images/17/thumbnail.jpg\"]},{\"id\":18,\"title\":\"Oil Free M'\n",
      "b'oisturizer 100ml\",\"description\":\"Dermive Oil Free Moisturizer with SPF 20 is specifically formulated with ceramides, hyaluronic acid & sunscreen.\",\"price\":40,\"discountPercentage\":13.1,\"rating\":4.56,\"stock\":88,\"brand\":\"Dermive\",\"category\":\"skincare\",\"thumbnail\":\"https://cdn.dummyjson.com/product-images/18/thumbnail.jpg\",\"images\":[\"https://cdn.dummyjson.com/product-images/18/1.jpg\",\"https://cdn.dummyjson.com/product-images/18/2.jpg\",\"https://cdn.dummyjson.com/product-images/18/3.jpg\",\"https://cdn.dummyjson.com/product-images/18/4.jpg\",\"https://cdn.dummyjson.com/product-images/18/thumbnail.jpg\"]},{\"id\":19,\"title\":\"Skin Beauty Serum.\",\"description\":\"Product name: rorec collagen hyaluronic acid white face serum riceNet weight: 15 m\",\"price\":46,\"discountPercentage\":10.68,\"rating\":4.42,\"stock\":54,\"brand\":\"ROREC White Rice\",\"category\":\"skincare\",\"thumbnail\":\"https://cdn.dummyjson.com/product-images/19/thumbnail.jpg\",\"images\":[\"https://cdn.dummyjson.com/product-images/19/1.jpg\",\"https://cdn.dummyjson.com/product-images/19/2.jpg\",\"https://cdn.dummyjson.com/product-images/19/3.png\",\"https://cdn.dummyjson.com/product-images/19/thumbnail.jpg\"]},{\"id\":20,\"title\":\"Freckle Treatment Cream- 15gm\",\"description\":\"Fair & Clear is Pakistan\\'s only pure Freckle cream which helpsfade Freckles, Darkspots and pigments. Mercury level is 0%, so there are no side effects.\",\"price\":70,\"discountPercentage\":16.99,\"rating\":4.06,\"stock\":140,\"brand\":\"Fair & Clear\",\"category\":\"skincare\",\"thumbnail\":\"https://cdn.dummyjson.com/product-images/20/thumbnail.jpg\",\"images\":[\"https://cdn.dummyjson.com/product-images/20/1.jpg\",\"https://cdn.dummyjson.com/product-images/20/2.jpg\",\"https://cdn.dummyjson.com/product-images/20/3.jpg\",\"https://cdn.dummyjson.com/product-images/20/4.jpg\",\"https://cdn.dummyjson.com/product-images/20/thumbnail.jpg\"]},{\"id\":21,\"title\":\"- Daal Masoor 500 grams\",\"description\":\"Fine quality Branded Product Keep in a cool and dry place\",\"price\":20,\"discountPercentage\":4.81,\"rating\":4.44,\"stock\":133,\"brand\":\"Saaf & Khaas\",\"category\":\"groceries\",\"thumbnail\":\"https://cdn.dummyjson.com/product-images/21/thumbnail.png\",\"images\":[\"https://cdn.dummyjson.com/product-images/21/1.png\",\"https://cdn.dummyjson.com/product-images/21/2.jpg\",\"https://cdn.dummyjson.com/product-images/21/3.jpg\"]},{\"id\":22,\"title\":\"Elbow Macaroni - 400 gm\",\"description\":\"Product details of Bake Parlor Big Elbow Macaroni - 400 gm\",\"price\":14,\"discountPercentage\":15.58,\"rating\":4.57,\"stock\":146,\"brand\":\"Bake Parlor Big\",\"category\":\"groceries\",\"thumbnail\":\"https://cdn.dummyjson.com/product-images/22/thumbnail.jpg\",\"images\":[\"https://cdn.dummyjson.com/product-images/22/1.jpg\",\"https://cdn.dummyjson.com/product-images/22/2.jpg\",\"https://cdn.dummyjson.com/product-images/22/3.jpg\"]},{\"id\":23,\"title\":\"Orange Essence Food Flavou\",\"description\":\"Specifications of Orange Essence Food Flavour For Cakes and Baking Food Item\",\"price\":14,\"discountPercentage\":8.04,\"rating\":4.85,\"stock\":26,\"brand\":\"Baking Food Items\",\"category\":\"groceries\",\"thumbnail\":\"https://cdn.dummyjson.com/product-images/23/thumbnail.jpg\",\"images\":[\"https://cdn.dummyjson.com/product-images/23/1.jpg\",\"https://cdn.dummyjson.com/product-images/23/2.jpg\",\"https://cdn.dummyjson.com/product-images/23/3.jpg\",\"https://cdn.dummyjson.com/product-images/23/4.jpg\",\"https://cdn.dummyjson.com/product-images/23/thumbnail.jpg\"]},{\"id\":24,\"title\":\"cereals muesli fruit nuts\",\"description\":\"original fauji cereal muesli 250gm box pack original fauji cereals muesli fruit nuts flakes breakfast cereal break fast faujicereals cerels cerel foji fouji\",\"price\":46,\"discountPercentage\":16.8,\"rating\":4.94,\"stock\":113,\"brand\":\"fauji\",\"category\":\"groceries\",\"thumbnail\":\"https://cdn.dummyjson.com/product-images/24/thumbnail.jpg\",\"images\":[\"https://cdn.dummyjson.com/product-images/24/1.jpg\",\"https://cdn.dummyjson.com/product-images/24/2.jpg\",\"https://cdn.dummyjson.com/product-images/24/3.jpg\",\"https://cdn.dummyjson.com/product-images/24/4.jpg\",\"https://cdn.dummyjson.com/product-images/24/thumbnail.jpg\"]},{\"id\":25,\"title\":\"Gulab Powder 50 Gram\",\"description\":\"Dry Rose Flower Powder Gulab Powder 50 Gram \\xe2\\x80\\xa2 Treats Wounds\",\"price\":70,\"discountPercentage\":13.58,\"rating\":4.87,\"stock\":47,\"brand\":\"Dry Rose\",\"category\":\"groceries\",\"thumbnail\":\"https://cdn.dummyjson.com/product-images/25/thumbnail.jpg\",\"images\":[\"https://cdn.dummyjson.com/product-images/25/1.png\",\"https://cdn.dummyjson.com/product-images/25/2.jpg\",\"https://cdn.dummyjson.com/product-images/25/3.png\",\"https://cdn.dummyjson.com/product-images/25/4.jpg\",\"https://cdn.dummyjson.com/product-images/25/thumbnail.jpg\"]},{\"id\":26,\"title\":\"Plant Hanger For Home\",\"description\":\"Boho Decor Plant Hanger For Home Wall Decoration Macrame Wall Hanging Shelf\",\"price\":41,\"discountPercentage\":17.86,\"rating\":4.08,\"stock\":131,\"brand\":\"Boho Decor\",\"category\":\"home-decoration\",\"thumbnail\":\"https://cdn.dummyjson.com/product-images/26/thumbnail.jpg\",\"images\":[\"https://cdn.dummyjson.com/product-images/26/1.jpg\",\"https://cdn.dummyjson.com/product-images/26/2.jpg\",\"https://cdn.dummyjson.com/product-images/26/3.jpg\",\"https://cdn.dummyjson.com/product-images/26/4.jpg\",\"https://cdn.dummyjson.com/product-images/26/5.jpg\",\"https://cdn.dummyjson.com/product-images/26/thumbnail.jpg\"]},{\"id\":27,\"title\":\"Flying Wooden Bird\",\"description\":\"Package Include 6 Birds with Adhesive Tape Shape: 3D Shaped Wooden Birds Material: Wooden MDF, Laminated 3.5m'\n",
      "b'm\",\"price\":51,\"discountPercentage\":15.58,\"rating\":4.41,\"stock\":17,\"brand\":\"Flying Wooden\",\"category\":\"home-decoration\",\"thumbnail\":\"https://cdn.dummyjson.com/product-images/27/thumbnail.webp\",\"images\":[\"https://cdn.dummyjson.com/product-images/27/1.jpg\",\"https://cdn.dummyjson.com/product-images/27/2.jpg\",\"https://cdn.dummyjson.com/product-images/27/3.jpg\",\"https://cdn.dummyjson.com/product-images/27/4.jpg\",\"https://cdn.dummyjson.com/product-images/27/thumbnail.webp\"]},{\"id\":28,\"title\":\"3D Embellishment Art Lamp\",\"description\":\"3D led lamp sticker Wall sticker 3d wall art light on/off button  cell operated (included)\",\"price\":20,\"discountPercentage\":16.49,\"rating\":4.82,\"stock\":54,\"brand\":\"LED Lights\",\"category\":\"home-decoration\",\"thumbnail\":\"https://cdn.dummyjson.com/product-images/28/thumbnail.jpg\",\"images\":[\"https://cdn.dummyjson.com/product-images/28/1.jpg\",\"https://cdn.dummyjson.com/product-images/28/2.jpg\",\"https://cdn.dummyjson.com/product-images/28/3.png\",\"https://cdn.dummyjson.com/product-images/28/4.jpg\",\"https://cdn.dummyjson.com/product-images/28/thumbnail.jpg\"]},{\"id\":29,\"title\":\"Handcraft Chinese style\",\"description\":\"Handcraft Chinese style art luxury palace hotel villa mansion home decor ceramic vase with brass fruit plate\",\"price\":60,\"discountPercentage\":15.34,\"rating\":4.44,\"stock\":7,\"brand\":\"luxury palace\",\"category\":\"home-decoration\",\"thumbnail\":\"https://cdn.dummyjson.com/product-images/29/thumbnail.webp\",\"images\":[\"https://cdn.dummyjson.com/product-images/29/1.jpg\",\"https://cdn.dummyjson.com/product-images/29/2.jpg\",\"https://cdn.dummyjson.com/product-images/29/3.webp\",\"https://cdn.dummyjson.com/product-images/29/4.webp\",\"https://cdn.dummyjson.com/product-images/29/thumbnail.webp\"]},{\"id\":30,\"title\":\"Key Holder\",\"description\":\"Attractive DesignMetallic materialFour key hooksReliable & DurablePremium Quality\",\"price\":30,\"discountPercentage\":2.92,\"rating\":4.92,\"stock\":54,\"brand\":\"Golden\",\"category\":\"home-decoration\",\"thumbnail\":\"https://cdn.dummyjson.com/product-images/30/thumbnail.jpg\",\"images\":[\"https://cdn.dummyjson.com/product-images/30/1.jpg\",\"https://cdn.dummyjson.com/product-images/30/2.jpg\",\"https://cdn.dummyjson.com/product-images/30/3.jpg\",\"https://cdn.dummyjson.com/product-images/30/thumbnail.jpg\"]}],\"total\":100,\"skip\":0,\"limit\":30}'\n"
     ]
    }
   ],
   "source": [
    "response = requests.get(f'{url}', stream=True)\n",
    "for chunk in response.iter_content(chunk_size = 1024):\n",
    "    print(chunk) "
   ]
  },
  {
   "cell_type": "markdown",
   "id": "f4a8fde5-9281-4a20-a8f3-f97d8f4b9a2e",
   "metadata": {},
   "source": [
    "# Working with List"
   ]
  },
  {
   "cell_type": "code",
   "execution_count": 66,
   "id": "2fb46202-1e4d-4157-8295-8f451ec592f4",
   "metadata": {},
   "outputs": [],
   "source": [
    "#Print function\n",
    "def myPrint (lists):\n",
    "    for list in lists:\n",
    "        print(list)"
   ]
  },
  {
   "cell_type": "code",
   "execution_count": 67,
   "id": "f8150a5a-c966-4d32-b51e-723238fe44c6",
   "metadata": {},
   "outputs": [
    {
     "name": "stdout",
     "output_type": "stream",
     "text": [
      "Earth\n",
      "Air\n",
      "Fire\n",
      "Water\n"
     ]
    }
   ],
   "source": [
    "#Create a list\n",
    "elements = ['Earth', 'Air', 'Fire', 'Water']\n",
    "\n",
    "myPrint(elements)"
   ]
  },
  {
   "cell_type": "markdown",
   "id": "cd34147e-62b1-484d-b20e-ca50e2ed8f44",
   "metadata": {},
   "source": [
    "## Working with creating list"
   ]
  },
  {
   "cell_type": "code",
   "execution_count": 68,
   "id": "c01ff65f-79e8-42b2-88e5-260d5abeb2e9",
   "metadata": {},
   "outputs": [
    {
     "name": "stdout",
     "output_type": "stream",
     "text": [
      "Earth\n",
      "Air\n",
      "Fire\n",
      "Water\n",
      "Aether\n"
     ]
    }
   ],
   "source": [
    "#Appending to a list\n",
    "elements.append('Aether')\n",
    "myPrint(elements)"
   ]
  },
  {
   "cell_type": "code",
   "execution_count": 69,
   "id": "6188e0c4-1145-4ba5-8b7b-694f5b590c7f",
   "metadata": {},
   "outputs": [
    {
     "name": "stdout",
     "output_type": "stream",
     "text": [
      "Earth\n",
      "Spirit\n",
      "Air\n",
      "Fire\n",
      "Water\n",
      "Aether\n"
     ]
    }
   ],
   "source": [
    "#Inserting into a list\n",
    "elements.insert(1, 'Spirit')\n",
    "myPrint(elements)"
   ]
  },
  {
   "cell_type": "code",
   "execution_count": 70,
   "id": "51ab9142-6d58-4b3c-9c49-a0a035744559",
   "metadata": {},
   "outputs": [
    {
     "name": "stdout",
     "output_type": "stream",
     "text": [
      "Earth\n",
      "Air\n",
      "Fire\n",
      "Water\n",
      "Aether\n"
     ]
    }
   ],
   "source": [
    "#Removing from a list\n",
    "elements.remove('Spirit')\n",
    "myPrint(elements)"
   ]
  },
  {
   "cell_type": "code",
   "execution_count": 71,
   "id": "db88108e-6eb7-49f7-999f-1a6b7a8c01bf",
   "metadata": {},
   "outputs": [
    {
     "name": "stdout",
     "output_type": "stream",
     "text": [
      "Earth\n",
      "Air\n",
      "Fire\n",
      "Water\n"
     ]
    }
   ],
   "source": [
    "#Popping an element from a list/remove the last element\n",
    "elements.pop()\n",
    "myPrint(elements)"
   ]
  },
  {
   "cell_type": "code",
   "execution_count": 72,
   "id": "b95e8538-e101-4775-a54f-4b14d3c914b3",
   "metadata": {},
   "outputs": [
    {
     "data": {
      "text/plain": [
       "1"
      ]
     },
     "execution_count": 72,
     "metadata": {},
     "output_type": "execute_result"
    }
   ],
   "source": [
    "#Finding the index of an element\n",
    "index_of_air = elements.index('Air')\n",
    "index_of_air"
   ]
  },
  {
   "cell_type": "code",
   "execution_count": 73,
   "id": "5a38a23a-9044-472f-9574-4c9ec9ea5690",
   "metadata": {},
   "outputs": [
    {
     "data": {
      "text/plain": [
       "['Air', 'Fire', 'Water']"
      ]
     },
     "execution_count": 73,
     "metadata": {},
     "output_type": "execute_result"
    }
   ],
   "source": [
    "#List slicing\n",
    "sub_elements = elements[1:4]\n",
    "sub_elements"
   ]
  },
  {
   "cell_type": "code",
   "execution_count": 74,
   "id": "0fdbad65-7c65-4f75-9f25-172ecb1b2cb8",
   "metadata": {},
   "outputs": [
    {
     "data": {
      "text/plain": [
       "[7, 7, 7, 7]"
      ]
     },
     "execution_count": 74,
     "metadata": {},
     "output_type": "execute_result"
    }
   ],
   "source": [
    "#List Comprehenssion\n",
    "lengths = [len(elements) * 2 - 1 for element in elements]\n",
    "lengths"
   ]
  },
  {
   "cell_type": "code",
   "execution_count": 75,
   "id": "f060a324-be08-44ba-8afd-081724b105dc",
   "metadata": {},
   "outputs": [],
   "source": [
    "#Sorting list\n",
    "sorted = elements.sort()\n",
    "sorted"
   ]
  },
  {
   "cell_type": "code",
   "execution_count": 76,
   "id": "3f779338-b7fe-44d6-82a1-5a6e5e1529be",
   "metadata": {},
   "outputs": [],
   "source": [
    "#Reversing a list\n",
    "reversed_elements = elements.reverse()\n",
    "reversed_elements"
   ]
  },
  {
   "cell_type": "markdown",
   "id": "bd04260f-10fc-407e-b484-e791f0073b1a",
   "metadata": {},
   "source": [
    "# Learn Pydantic"
   ]
  },
  {
   "cell_type": "code",
   "execution_count": 77,
   "id": "5bff910d-aa1e-41c2-b40f-4e9179d81821",
   "metadata": {},
   "outputs": [],
   "source": [
    "#Using pydantic\n",
    "from pydantic import BaseModel, EmailStr\n",
    "from typing import Optional, List\n",
    "class User (BaseModel):\n",
    "    name: str\n",
    "    email: EmailStr\n",
    "    account_id: int"
   ]
  },
  {
   "cell_type": "code",
   "execution_count": 78,
   "id": "1f2a52dc-db60-4921-9500-b612130e636b",
   "metadata": {},
   "outputs": [
    {
     "name": "stdout",
     "output_type": "stream",
     "text": [
      "ademon@yahpp.com\n"
     ]
    }
   ],
   "source": [
    "#Creating an instance of the class\n",
    "user = User(\n",
    "    name = \"Ademola Adeniji\",\n",
    "    email = \"ademon@yahpp.com\",\n",
    "    account_id = 3242\n",
    ")\n",
    "print(user.email)"
   ]
  },
  {
   "cell_type": "code",
   "execution_count": 79,
   "id": "cd483b23-6837-495b-9dcc-2c9feb5e09ec",
   "metadata": {},
   "outputs": [
    {
     "name": "stdout",
     "output_type": "stream",
     "text": [
      "Adeboye Adegboyega\n"
     ]
    }
   ],
   "source": [
    "#Another way\n",
    "user_data = {\n",
    "    'name' : 'Adeboye Adegboyega',\n",
    "    'email': 'rose@gmail.com',\n",
    "    'account_id' : 5432\n",
    "}\n",
    "\n",
    "user_b = User(**user_data)\n",
    "print(user_b.name)"
   ]
  },
  {
   "cell_type": "code",
   "execution_count": 80,
   "id": "0a37d01d-0888-4857-82b9-09f008dd45f1",
   "metadata": {},
   "outputs": [],
   "source": [
    "from pydantic import field_validator"
   ]
  },
  {
   "cell_type": "code",
   "execution_count": 81,
   "id": "fe6d8d1c-587b-493a-8039-5b4d0e6172d4",
   "metadata": {},
   "outputs": [],
   "source": [
    "class Student (BaseModel):\n",
    "    name: str\n",
    "    email: EmailStr\n",
    "    student_id: int\n",
    "    kits: Optional[List[str]] = None\n",
    "    \n",
    "    @field_validator(\"student_id\")\n",
    "    def validate_account_id(cls, value):\n",
    "        if value <= 0:\n",
    "            raise ValueError(f\"student_id must be positive: {value}\")\n",
    "            return value"
   ]
  },
  {
   "cell_type": "code",
   "execution_count": 82,
   "id": "6d266d94-bd51-4817-8f65-8dedf6563c9b",
   "metadata": {},
   "outputs": [
    {
     "name": "stdout",
     "output_type": "stream",
     "text": [
      "None\n"
     ]
    }
   ],
   "source": [
    "student_data = {\n",
    "    'name' : 'Adeboye Adegboyega',\n",
    "    'email': 'rose@gmail.com',\n",
    "    'student_id':5432\n",
    "}\n",
    "\n",
    "student = Student(**student_data)\n",
    "print(student.student_id)"
   ]
  },
  {
   "cell_type": "code",
   "execution_count": 83,
   "id": "149d7ca8-fd86-4688-b6a3-95033fd058bb",
   "metadata": {},
   "outputs": [
    {
     "name": "stdout",
     "output_type": "stream",
     "text": [
      "{\"name\":\"Adeboye Adegboyega\",\"email\":\"rose@gmail.com\",\"student_id\":null,\"kits\":null}\n"
     ]
    }
   ],
   "source": [
    "#Convert to json object\n",
    "print(student.json())"
   ]
  },
  {
   "cell_type": "code",
   "execution_count": 84,
   "id": "9b4c10b0-1657-4653-b2ce-03dc2497e855",
   "metadata": {},
   "outputs": [
    {
     "name": "stdout",
     "output_type": "stream",
     "text": [
      "{'name': 'Adeboye Adegboyega', 'email': 'rose@gmail.com', 'student_id': None, 'kits': None}\n"
     ]
    }
   ],
   "source": [
    "#convert to python dict\n",
    "print(student.dict())"
   ]
  },
  {
   "cell_type": "code",
   "execution_count": 85,
   "id": "5ffc6334-669e-4b8b-9b84-61245ee2abef",
   "metadata": {},
   "outputs": [
    {
     "name": "stdout",
     "output_type": "stream",
     "text": [
      "{'name': 'Adeboye Adegboyega', 'email': 'rose@gmail.com', 'student_id': None, 'kits': None}\n",
      "{\"name\":\"Adeboye Adegboyega\",\"email\":\"rose@gmail.com\",\"student_id\":null,\"kits\":null}\n",
      "{'properties': {'name': {'title': 'Name', 'type': 'string'}, 'email': {'format': 'email', 'title': 'Email', 'type': 'string'}, 'student_id': {'title': 'Student Id', 'type': 'integer'}, 'kits': {'anyOf': [{'items': {'type': 'string'}, 'type': 'array'}, {'type': 'null'}], 'default': None, 'title': 'Kits'}}, 'required': ['name', 'email', 'student_id'], 'title': 'Student', 'type': 'object'}\n"
     ]
    }
   ],
   "source": [
    "print(student.model_dump())\n",
    "print(student.model_dump_json())\n",
    "print(student.model_json_schema())"
   ]
  },
  {
   "cell_type": "code",
   "execution_count": 86,
   "id": "0fee9a24-b275-425f-9d53-eb5c6e8c3b81",
   "metadata": {},
   "outputs": [],
   "source": [
    "class Food(BaseModel):\n",
    "    name: str\n",
    "    price: float\n",
    "    ingredients: Optional[List[str]] = None\n",
    "    "
   ]
  },
  {
   "cell_type": "code",
   "execution_count": 87,
   "id": "f2224d79-a358-4691-ae44-df5e45cd3d5a",
   "metadata": {},
   "outputs": [],
   "source": [
    "class Restaurant(BaseModel):\n",
    "    name: str\n",
    "    location: str\n",
    "    foods: List[Food]"
   ]
  },
  {
   "cell_type": "code",
   "execution_count": 88,
   "id": "e8409870-539f-43ef-b828-84d132ee9f2e",
   "metadata": {},
   "outputs": [
    {
     "ename": "NameError",
     "evalue": "name 'Restuarant' is not defined",
     "output_type": "error",
     "traceback": [
      "\u001b[0;31m---------------------------------------------------------------------------\u001b[0m",
      "\u001b[0;31mNameError\u001b[0m                                 Traceback (most recent call last)",
      "Cell \u001b[0;32mIn[88], line 1\u001b[0m\n\u001b[0;32m----> 1\u001b[0m restaurant_instance \u001b[38;5;241m=\u001b[39m \u001b[43mRestuarant\u001b[49m(\n\u001b[1;32m      2\u001b[0m     name\u001b[38;5;241m=\u001b[39m\u001b[38;5;124m\"\u001b[39m\u001b[38;5;124mAyoade\u001b[39m\u001b[38;5;124m\"\u001b[39m,\n\u001b[1;32m      3\u001b[0m     location\u001b[38;5;241m=\u001b[39m\u001b[38;5;124m\"\u001b[39m\u001b[38;5;124mNo 13, Fredrick Street, London\u001b[39m\u001b[38;5;124m\"\u001b[39m,\n\u001b[1;32m      4\u001b[0m     foods\u001b[38;5;241m=\u001b[39m[\n\u001b[1;32m      5\u001b[0m         {\u001b[38;5;124m\"\u001b[39m\u001b[38;5;124mname\u001b[39m\u001b[38;5;124m\"\u001b[39m:\u001b[38;5;124m\"\u001b[39m\u001b[38;5;124miyan\u001b[39m\u001b[38;5;124m\"\u001b[39m, \u001b[38;5;124m\"\u001b[39m\u001b[38;5;124mprice\u001b[39m\u001b[38;5;124m\"\u001b[39m:\u001b[38;5;241m23\u001b[39m, \u001b[38;5;124m\"\u001b[39m\u001b[38;5;124mingredient\u001b[39m\u001b[38;5;124m\"\u001b[39m:[\u001b[38;5;124m\"\u001b[39m\u001b[38;5;124misu\u001b[39m\u001b[38;5;124m\"\u001b[39m, \u001b[38;5;124m\"\u001b[39m\u001b[38;5;124miyo\u001b[39m\u001b[38;5;124m\"\u001b[39m]},\n\u001b[1;32m      6\u001b[0m         {\u001b[38;5;124m\"\u001b[39m\u001b[38;5;124mname\u001b[39m\u001b[38;5;124m\"\u001b[39m:\u001b[38;5;124m\"\u001b[39m\u001b[38;5;124meba\u001b[39m\u001b[38;5;124m\"\u001b[39m, \u001b[38;5;124m\"\u001b[39m\u001b[38;5;124mprice\u001b[39m\u001b[38;5;124m\"\u001b[39m:\u001b[38;5;241m232\u001b[39m, \u001b[38;5;124m\"\u001b[39m\u001b[38;5;124mingredient\u001b[39m\u001b[38;5;124m\"\u001b[39m:[\u001b[38;5;124m\"\u001b[39m\u001b[38;5;124mgarri\u001b[39m\u001b[38;5;124m\"\u001b[39m, \u001b[38;5;124m\"\u001b[39m\u001b[38;5;124mefo riro\u001b[39m\u001b[38;5;124m\"\u001b[39m]}\n\u001b[1;32m      7\u001b[0m         \n\u001b[1;32m      8\u001b[0m     ]\n\u001b[1;32m      9\u001b[0m     \n\u001b[1;32m     10\u001b[0m )\n",
      "\u001b[0;31mNameError\u001b[0m: name 'Restuarant' is not defined"
     ]
    }
   ],
   "source": [
    "restaurant_instance = Restuarant(\n",
    "    name=\"Ayoade\",\n",
    "    location=\"No 13, Fredrick Street, London\",\n",
    "    foods=[\n",
    "        {\"name\":\"iyan\", \"price\":23, \"ingredient\":[\"isu\", \"iyo\"]},\n",
    "        {\"name\":\"eba\", \"price\":232, \"ingredient\":[\"garri\", \"efo riro\"]}\n",
    "        \n",
    "    ]\n",
    "    \n",
    ")"
   ]
  },
  {
   "cell_type": "code",
   "execution_count": null,
   "id": "1d9213f2-4065-4e26-9adc-0ebd2577205c",
   "metadata": {},
   "outputs": [
    {
     "name": "stdout",
     "output_type": "stream",
     "text": [
      "model_dump: {'name': 'Ayoade', 'location': 'No 13, Fredrick Street, London', 'foods': [{'name': 'iyan', 'price': 23.0, 'ingredients': None}, {'name': 'eba', 'price': 232.0, 'ingredients': None}]}\n"
     ]
    }
   ],
   "source": [
    "print(f\"model_dump: {restaurant_instance.model_dump()}\")\n"
   ]
  },
  {
   "cell_type": "code",
   "execution_count": null,
   "id": "91d88042-3686-40fd-9921-dd7ed1c2404b",
   "metadata": {},
   "outputs": [
    {
     "name": "stdout",
     "output_type": "stream",
     "text": [
      "model_dump_json: {\"name\":\"Ayoade\",\"location\":\"No 13, Fredrick Street, London\",\"foods\":[{\"name\":\"iyan\",\"price\":23.0,\"ingredients\":null},{\"name\":\"eba\",\"price\":232.0,\"ingredients\":null}]}\n"
     ]
    }
   ],
   "source": [
    "\n",
    "print(f\"model_dump_json: {restaurant_instance.model_dump_json()}\")\n"
   ]
  },
  {
   "cell_type": "code",
   "execution_count": null,
   "id": "6fd4d6b3-1c92-423a-b14f-a882a9fc8e4c",
   "metadata": {},
   "outputs": [
    {
     "name": "stdout",
     "output_type": "stream",
     "text": [
      "model_json_schema: {'$defs': {'Food': {'properties': {'name': {'title': 'Name', 'type': 'string'}, 'price': {'title': 'Price', 'type': 'number'}, 'ingredients': {'anyOf': [{'items': {'type': 'string'}, 'type': 'array'}, {'type': 'null'}], 'default': None, 'title': 'Ingredients'}}, 'required': ['name', 'price'], 'title': 'Food', 'type': 'object'}}, 'properties': {'name': {'title': 'Name', 'type': 'string'}, 'location': {'title': 'Location', 'type': 'string'}, 'foods': {'items': {'$ref': '#/$defs/Food'}, 'title': 'Foods', 'type': 'array'}}, 'required': ['name', 'location', 'foods'], 'title': 'Restuarant', 'type': 'object'}\n"
     ]
    }
   ],
   "source": [
    "\n",
    "print(f\"model_json_schema: {restaurant_instance.model_json_schema()}\")\n"
   ]
  },
  {
   "cell_type": "code",
   "execution_count": null,
   "id": "c3304276-5de6-4492-a172-47765f40b178",
   "metadata": {},
   "outputs": [
    {
     "name": "stdout",
     "output_type": "stream",
     "text": [
      "restaurant_instance: name='Ayoade' location='No 13, Fredrick Street, London' foods=[Food(name='iyan', price=23.0, ingredients=None), Food(name='eba', price=232.0, ingredients=None)]\n"
     ]
    }
   ],
   "source": [
    "\n",
    "print(f\"restaurant_instance: {restaurant_instance}\")\n"
   ]
  },
  {
   "cell_type": "code",
   "execution_count": null,
   "id": "838c4af8-9f79-420d-bfd1-bf65b7a55710",
   "metadata": {},
   "outputs": [
    {
     "name": "stdout",
     "output_type": "stream",
     "text": [
      "dict: {'name': 'Ayoade', 'location': 'No 13, Fredrick Street, London', 'foods': [{'name': 'iyan', 'price': 23.0, 'ingredients': None}, {'name': 'eba', 'price': 232.0, 'ingredients': None}]}\n"
     ]
    }
   ],
   "source": [
    "\n",
    "print(f\"dict: {restaurant_instance.dict()}\")"
   ]
  },
  {
   "cell_type": "code",
   "execution_count": null,
   "id": "fdbab06f-b5a8-4580-805c-18491c20aade",
   "metadata": {},
   "outputs": [],
   "source": [
    "from typing import List\n",
    "from pydantic import conlist, Field, HttpUrl, PositiveInt"
   ]
  },
  {
   "cell_type": "code",
   "execution_count": null,
   "id": "9689de8e-26f2-4cf5-9b10-2ec486507ae1",
   "metadata": {},
   "outputs": [],
   "source": [
    "class Address(BaseModel):\n",
    "    street: str\n",
    "    city: str\n",
    "    state: str\n",
    "    zip_code: str"
   ]
  },
  {
   "cell_type": "code",
   "execution_count": 289,
   "id": "c31f0cee-111f-44a7-85a4-2318a57567e2",
   "metadata": {},
   "outputs": [],
   "source": [
    "class Employee(BaseModel):\n",
    "    name: str\n",
    "    position: str\n",
    "    email: EmailStr"
   ]
  },
  {
   "cell_type": "code",
   "execution_count": 89,
   "id": "68ac6b9b",
   "metadata": {},
   "outputs": [],
   "source": [
    "from pydantic import model_validator"
   ]
  },
  {
   "cell_type": "code",
   "execution_count": 92,
   "id": "19ade145-ad9f-4acf-9ab2-68fb6c0f0afb",
   "metadata": {},
   "outputs": [
    {
     "name": "stdout",
     "output_type": "stream",
     "text": [
      "name='George Bill' email='nill@gmail.com'\n"
     ]
    }
   ],
   "source": [
    "class Owner(BaseModel):\n",
    "    name: str\n",
    "    email: EmailStr\n",
    "\n",
    "    @model_validator(mode='before')\n",
    "    @classmethod\n",
    "    def check_if_sentive_info_omitted(cls, data: any) -> any:\n",
    "        if isinstance(data, dict):\n",
    "            if 'password' in data:\n",
    "                raise ValueError(\"Password should not be included\")\n",
    "            if 'card_number' in data:\n",
    "                raise ValueError(\"Car number should not be included\")\n",
    "        return data\n",
    "\n",
    "    @mdel__validator(mode=\"after\")\n",
    "    @classmethod\n",
    "    def check_if_name_invcluded()\n",
    "\n",
    "\n",
    "    @field_validator('name')\n",
    "    @classmethod\n",
    "    def name_must_contain_space(cls, v: str) -> str:\n",
    "        if ' ' not in v:\n",
    "            raise ValueError(\"Name must contain a space\")\n",
    "        return v.title()\n",
    "try:\n",
    "    owner = Owner(name=\"George Bill\", email=\"nill@gmail.com\")\n",
    "except ValueError as e:\n",
    "    print(e)\n",
    "\n",
    "print(owner)\n"
   ]
  },
  {
   "cell_type": "code",
   "execution_count": 291,
   "id": "f343ab9a-c8e3-45d9-ab08-d03c8a618c6b",
   "metadata": {},
   "outputs": [],
   "source": [
    "class Hotel(BaseModel):\n",
    "    name: str = Field(..., pattern=r\"^[a-zA-Z0-9- ]+$\")\n",
    "    owner: Owner\n",
    "    address: Address\n",
    "    employees: conlist(Employee, min_length=2)\n",
    "    number_of_seats: PositiveInt\n",
    "    delivery: bool\n",
    "    website: HttpUrl"
   ]
  },
  {
   "cell_type": "code",
   "execution_count": 300,
   "id": "b6a79fb3-9467-440d-9324-c50acb39425e",
   "metadata": {},
   "outputs": [],
   "source": [
    "hotel = Hotel(\n",
    "    name= \"Presidemtial Hotel\",\n",
    "    owner={\n",
    "        \"name\": \"Ademola Adeniji\",\n",
    "        \"email\": \"aademola49@gmail.com\"\n",
    "        \n",
    "    },\n",
    "    address={\n",
    "        \"street\":\"89 Aba Port Harcourt Express Way\",\n",
    "        \"city\":\"Port Harcourt\",\n",
    "        \"state\": \"Rivers State\",\n",
    "        \"zip_code\": \"89\"\n",
    "        \n",
    "    },\n",
    "    employees= [\n",
    "    {\n",
    "        \"name\": \"Okon Jumia\",\n",
    "        \"position\": \"Manager\",\n",
    "        \"email\": \"okon2@gmail.com\"\n",
    "    },\n",
    "     {\n",
    "        \"name\": \"Okon Jumia\",\n",
    "        \"position\": \"Manager\",\n",
    "        \"email\": \"okonr@gmail.com\"\n",
    "    },\n",
    "         {\n",
    "        \"name\": \"Okon Jumia\",\n",
    "        \"position\": \"Manager\",\n",
    "        \"email\": \"okony@gmail.com\"\n",
    "    },\n",
    "     {\n",
    "        \"name\": \"Okon Jumia\",\n",
    "        \"position\": \"Manager\",\n",
    "        \"email\": \"okonyx@gmail.com\"\n",
    "    }\n",
    "    ],\n",
    "    number_of_seats=8,\n",
    "    delivery= True,\n",
    "    website=\"https://presidentialhotel.com\"\n",
    ")"
   ]
  },
  {
   "cell_type": "code",
   "execution_count": null,
   "id": "b1b0f8c3-0d80-44bd-b884-67258936aca1",
   "metadata": {},
   "outputs": [],
   "source": []
  },
  {
   "cell_type": "code",
   "execution_count": null,
   "id": "b31f4c49-b06a-4a3f-9837-2cb28dd6a725",
   "metadata": {},
   "outputs": [],
   "source": []
  },
  {
   "cell_type": "code",
   "execution_count": null,
   "id": "72d63536-f968-4f11-afbc-ce0a96f8d277",
   "metadata": {},
   "outputs": [],
   "source": []
  },
  {
   "cell_type": "markdown",
   "id": "5abb9b94-731e-42fd-906f-b2342d712dbb",
   "metadata": {},
   "source": [
    "# Dataclasses"
   ]
  },
  {
   "cell_type": "code",
   "execution_count": 256,
   "id": "af95d166-1355-4c2a-958e-2463d616a64b",
   "metadata": {},
   "outputs": [],
   "source": [
    "from dataclasses import dataclass\n",
    "@dataclass\n",
    "class Subscriber:\n",
    "    name: str\n",
    "    age: int\n",
    "    email: str\n",
    "    def _init_ (self, name, age,):\n",
    "        self.name = name\n",
    "        self.age = age\n",
    "        self.email = email\n",
    "    def displayData ():\n",
    "        print(f\"name: {name}, age: {age} and email: {email}\")\n"
   ]
  },
  {
   "cell_type": "code",
   "execution_count": 251,
   "id": "0de3fda9-edf7-49bf-a2b0-33f365da5b71",
   "metadata": {},
   "outputs": [
    {
     "data": {
      "text/plain": [
       "<bound method Subscriber.displayData of Subscriber(name='Ade', age=23, email='adere@gmail.com')>"
      ]
     },
     "execution_count": 251,
     "metadata": {},
     "output_type": "execute_result"
    }
   ],
   "source": [
    "sub = Subscriber(\"Ade\", 23, \"adere@gmail.com\")\n",
    "sub.displayData"
   ]
  },
  {
   "cell_type": "code",
   "execution_count": 210,
   "id": "e9a669b7-454d-4a04-a300-fe072c36b7f5",
   "metadata": {},
   "outputs": [
    {
     "name": "stdout",
     "output_type": "stream",
     "text": [
      "MyUser() takes no arguments\n"
     ]
    }
   ],
   "source": [
    "# Python native type checking\n",
    "class MyUser:\n",
    "    def _init_(self, id: int, name=\"Joe Doe\"):\n",
    "        if not isinstance(id, int):\n",
    "            raise TypeError(f\"Expected id to be int, but got {type(id)._name_}\")\n",
    "        if not isinstance(name, str):\n",
    "            raise TypeError(f\"Expected name to be string but got {type(name)._name_}\")\n",
    "        self.id =  id\n",
    "        self.name = name\n",
    "try:\n",
    "    myuser = MyUser(id=\"123\")\n",
    "except TypeError as e:\n",
    "    print(e)\n",
    "            "
   ]
  },
  {
   "cell_type": "code",
   "execution_count": null,
   "id": "515b72bd-35d5-4593-a1bd-7aee0b981c2d",
   "metadata": {},
   "outputs": [],
   "source": []
  }
 ],
 "metadata": {
  "kernelspec": {
   "display_name": "Python 3 (ipykernel)",
   "language": "python",
   "name": "python3"
  },
  "language_info": {
   "codemirror_mode": {
    "name": "ipython",
    "version": 3
   },
   "file_extension": ".py",
   "mimetype": "text/x-python",
   "name": "python",
   "nbconvert_exporter": "python",
   "pygments_lexer": "ipython3",
   "version": "3.10.12"
  }
 },
 "nbformat": 4,
 "nbformat_minor": 5
}
